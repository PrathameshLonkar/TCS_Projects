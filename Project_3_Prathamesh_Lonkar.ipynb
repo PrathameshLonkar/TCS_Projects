{
 "cells": [
  {
   "cell_type": "code",
   "execution_count": 787,
   "id": "e26bffbb",
   "metadata": {},
   "outputs": [],
   "source": [
    "from pyspark.sql.session import SparkSession\n",
    "from pyspark.context import SparkContext\n",
    "from pyspark.sql.functions import *\n",
    "from pyspark.sql.types import *\n",
    "from pyspark.sql import *\n",
    "from pyspark.sql import functions as F"
   ]
  },
  {
   "cell_type": "code",
   "execution_count": 788,
   "id": "7d1595f3",
   "metadata": {},
   "outputs": [],
   "source": [
    "spark = SparkSession.builder.appName(\"Project_3\").getOrCreate()\n",
    "#was having problem with converting string to date hence used older version of spark\n",
    "spark.conf.set(\"spark.sql.legacy.timeParserPolicy\",\"LEGACY\")"
   ]
  },
  {
   "cell_type": "code",
   "execution_count": 789,
   "id": "d910bff5",
   "metadata": {},
   "outputs": [],
   "source": [
    "#video_id trending_date title channel_title category_id publish_time tags views likes dislikes comment_count comments_disabled ratings_disabled\n",
    "\n",
    "schema = StructType(\n",
    "    [\n",
    "        StructField(\"video_id\", StringType(), True),\n",
    "        StructField(\"trending_date\", StringType(), True),\n",
    "        StructField(\"title\", StringType(), True),\n",
    "        StructField(\"channel_title\", StringType(), True),\n",
    "        StructField(\"category_id\", IntegerType(), True),\n",
    "        StructField(\"publish_time\", StringType(), True),\n",
    "        StructField(\"tags\", StringType(), True),\n",
    "        StructField(\"views\", IntegerType(), True),\n",
    "        StructField(\"likes\", IntegerType(), True),\n",
    "        StructField(\"dislikes\", IntegerType(), True),\n",
    "        StructField(\"comment_count\", IntegerType(), True),\n",
    "        StructField(\"comments_disabled\", StringType(), True),\n",
    "        StructField(\"ratings_disabled\", StringType(), True)\n",
    "    ]\n",
    ")"
   ]
  },
  {
   "cell_type": "code",
   "execution_count": 790,
   "id": "18440456",
   "metadata": {},
   "outputs": [],
   "source": [
    "#use the path to your file \n",
    "vdf = spark.read.csv(\"C:/Users/16072/Downloads/USvideos.csv\", header=True, schema=schema)"
   ]
  },
  {
   "cell_type": "code",
   "execution_count": 791,
   "id": "c7ca2858",
   "metadata": {},
   "outputs": [
    {
     "name": "stdout",
     "output_type": "stream",
     "text": [
      "+-----------+-------------+--------------------+--------------------+-----------+--------------------+--------------------+-------+------+--------+-------------+-----------------+----------------+\n",
      "|   video_id|trending_date|               title|       channel_title|category_id|        publish_time|                tags|  views| likes|dislikes|comment_count|comments_disabled|ratings_disabled|\n",
      "+-----------+-------------+--------------------+--------------------+-----------+--------------------+--------------------+-------+------+--------+-------------+-----------------+----------------+\n",
      "|2kyS6SvSYSE|     17.14.11|WE WANT TO TALK A...|        CaseyNeistat|         22|2017-11-13T17:13:...|     SHANtell martin| 748374| 57527|    2966|        15954|            FALSE|           FALSE|\n",
      "|1ZAPwfrtAFY|     17.14.11|The Trump Preside...|     LastWeekTonight|         24|2017-11-13T07:30:...|\"last week tonigh...|2418783| 97185|    6146|        12703|            FALSE|           FALSE|\n",
      "|5qpjK5DgCt4|     17.14.11|Racist Superman |...|        Rudy Mancuso|         23|2017-11-12T19:05:...|\"racist superman|...|3191434|146033|    5339|         8181|            FALSE|           FALSE|\n",
      "|puqaWrEC7tY|     17.14.11|Nickelback Lyrics...|Good Mythical Mor...|         24|2017-11-13T11:00:...|\"rhett and link|\"...| 343168| 10172|     666|         2146|            FALSE|           FALSE|\n",
      "|d380meD0W0M|     17.14.11|I Dare You: GOING...|            nigahiga|         24|2017-11-12T18:01:...|\"ryan|\"\"higa\"\"|\"\"...|2095731|132235|    1989|        17518|            FALSE|           FALSE|\n",
      "|gHZ1Qz0KiKM|     17.14.11|2 Weeks with iPho...|            iJustine|         28|2017-11-13T19:07:...|\"ijustine|\"\"week ...| 119180|  9763|     511|         1434|            FALSE|           FALSE|\n",
      "|39idVpFF7NQ|     17.14.11|Roy Moore & Jeff ...| Saturday Night Live|         24|2017-11-12T05:37:...|\"SNL|\"\"Saturday N...|2103417| 15993|    2445|         1970|            FALSE|           FALSE|\n",
      "|nc99ccSXST0|     17.14.11|5 Ice Cream Gadge...|  CrazyRussianHacker|         28|2017-11-12T21:50:...|\"5 Ice Cream Gadg...| 817732| 23663|     778|         3432|            FALSE|           FALSE|\n",
      "|jr9QtXwC9vc|     17.14.11|The Greatest Show...|    20th Century Fox|          1|2017-11-13T14:00:...|\"Trailer|\"\"Hugh J...| 826059|  3543|     119|          340|            FALSE|           FALSE|\n",
      "|TUmyygCMMGA|     17.14.11|Why the rise of t...|                 Vox|         25|2017-11-13T13:45:...|\"vox.com|\"\"vox\"\"|...| 256426| 12654|    1363|         2368|            FALSE|           FALSE|\n",
      "+-----------+-------------+--------------------+--------------------+-----------+--------------------+--------------------+-------+------+--------+-------------+-----------------+----------------+\n",
      "only showing top 10 rows\n",
      "\n"
     ]
    }
   ],
   "source": [
    "vdf.show(10)"
   ]
  },
  {
   "cell_type": "code",
   "execution_count": 792,
   "id": "7b283444",
   "metadata": {},
   "outputs": [
    {
     "name": "stdout",
     "output_type": "stream",
     "text": [
      "root\n",
      " |-- video_id: string (nullable = true)\n",
      " |-- trending_date: string (nullable = true)\n",
      " |-- title: string (nullable = true)\n",
      " |-- channel_title: string (nullable = true)\n",
      " |-- category_id: integer (nullable = true)\n",
      " |-- publish_time: string (nullable = true)\n",
      " |-- tags: string (nullable = true)\n",
      " |-- views: integer (nullable = true)\n",
      " |-- likes: integer (nullable = true)\n",
      " |-- dislikes: integer (nullable = true)\n",
      " |-- comment_count: integer (nullable = true)\n",
      " |-- comments_disabled: string (nullable = true)\n",
      " |-- ratings_disabled: string (nullable = true)\n",
      "\n"
     ]
    }
   ],
   "source": [
    "vdf.printSchema()"
   ]
  },
  {
   "cell_type": "code",
   "execution_count": 793,
   "id": "11d0c52d",
   "metadata": {},
   "outputs": [],
   "source": [
    "schema1 = StructType(\n",
    "    [\n",
    "        StructField(\"category_id\", IntegerType(), True),\n",
    "        StructField(\"categor_name\", StringType(), True)\n",
    "    ]\n",
    ")"
   ]
  },
  {
   "cell_type": "code",
   "execution_count": 794,
   "id": "5676c0d8",
   "metadata": {},
   "outputs": [],
   "source": [
    "cdf = spark.read.csv(\"C:/Users/16072/Downloads/category_title.csv\", header=False, schema=schema1)"
   ]
  },
  {
   "cell_type": "code",
   "execution_count": 795,
   "id": "ab1a62f3",
   "metadata": {},
   "outputs": [
    {
     "name": "stdout",
     "output_type": "stream",
     "text": [
      "+-----------+----------------+\n",
      "|category_id|    categor_name|\n",
      "+-----------+----------------+\n",
      "|          1|Film & Animation|\n",
      "|          2|Autos & Vehicles|\n",
      "|         10|           Music|\n",
      "|         15|  Pets & Animals|\n",
      "+-----------+----------------+\n",
      "only showing top 4 rows\n",
      "\n"
     ]
    }
   ],
   "source": [
    "cdf.show(4)"
   ]
  },
  {
   "cell_type": "code",
   "execution_count": 796,
   "id": "ee8279be",
   "metadata": {},
   "outputs": [],
   "source": [
    "vdf = (vdf.withColumn(\"total_user_interaction\", col(\"views\")+col(\"likes\")+col(\"dislikes\")+col(\"comment_count\")))\n",
    "#will be used for likes dislikes ratio question\n",
    "vdf = (vdf.withColumn(\"likes_dislikes_ratio\", col(\"likes\")/col(\"dislikes\")))\n",
    "#will be used for views comments ratio question\n",
    "vdf = (vdf.withColumn(\"views_comment_ratio\", col(\"views\")/col(\"comment_count\")))\n",
    "#will be used for likes views ratio question\n",
    "vdf = (vdf.withColumn(\"likes_view_ratio\", col(\"views\")/col(\"likes\")))\n",
    "#Top 3 videos for which user interaction (views + likes + dislikes + comments) is the highest\n",
    "\n",
    "top_3__videos_user_interaction= (vdf.groupBy(\"video_id\").agg(sum(\"total_user_interaction\").alias(\"total_user_interaction\")).orderBy(desc(\"total_user_interaction\")).limit(3))"
   ]
  },
  {
   "cell_type": "code",
   "execution_count": 797,
   "id": "b7d9b47e",
   "metadata": {},
   "outputs": [
    {
     "name": "stdout",
     "output_type": "stream",
     "text": [
      "+-----------+----------------------+\n",
      "|   video_id|total_user_interaction|\n",
      "+-----------+----------------------+\n",
      "|VYOjWnS4cMY|            3871395306|\n",
      "|ffxKSjUwKdU|            1584764275|\n",
      "|7C2z4GqqS5E|            1372981678|\n",
      "+-----------+----------------------+\n",
      "\n"
     ]
    }
   ],
   "source": [
    "top_3__videos_user_interaction.show()"
   ]
  },
  {
   "cell_type": "code",
   "execution_count": 798,
   "id": "f62910af",
   "metadata": {},
   "outputs": [],
   "source": [
    "#Bottom 3 videos for which user interaction (views + likes + dislikes + comments) is lowest\n",
    "bottom_3__videos_user_interaction= (vdf1.groupBy(\"video_id\").agg(sum(\"total_user_interaction\").alias(\"total_user_interaction\")).orderBy(asc(\"total_user_interaction\")).limit(3))"
   ]
  },
  {
   "cell_type": "code",
   "execution_count": 799,
   "id": "389633a4",
   "metadata": {},
   "outputs": [
    {
     "name": "stdout",
     "output_type": "stream",
     "text": [
      "+-----------+----------------------+\n",
      "|   video_id|total_user_interaction|\n",
      "+-----------+----------------------+\n",
      "|zeQaJGkFyqQ|                   757|\n",
      "|qg0GdM60syI|                   775|\n",
      "|OmM425PFd3Y|                  1422|\n",
      "+-----------+----------------------+\n",
      "\n"
     ]
    }
   ],
   "source": [
    "bottom_3__videos_user_interaction.show()"
   ]
  },
  {
   "cell_type": "code",
   "execution_count": 800,
   "id": "14cf5ae0",
   "metadata": {},
   "outputs": [
    {
     "name": "stdout",
     "output_type": "stream",
     "text": [
      "+-----------+-------------+--------------------+--------------------+-----------+--------------------+--------------------+-------+------+--------+-------------+-----------------+----------------+----------------------+--------------------+-------------------+------------------+-----------+--------------------+\n",
      "|   video_id|trending_date|               title|       channel_title|category_id|        publish_time|                tags|  views| likes|dislikes|comment_count|comments_disabled|ratings_disabled|total_user_interaction|likes_dislikes_ratio|views_comment_ratio|  likes_view_ratio|category_id|        categor_name|\n",
      "+-----------+-------------+--------------------+--------------------+-----------+--------------------+--------------------+-------+------+--------+-------------+-----------------+----------------+----------------------+--------------------+-------------------+------------------+-----------+--------------------+\n",
      "|2kyS6SvSYSE|     17.14.11|WE WANT TO TALK A...|        CaseyNeistat|         22|2017-11-13T17:13:...|     SHANtell martin| 748374| 57527|    2966|        15954|            FALSE|           FALSE|                824821|  19.395482130815914| 46.908236179014665|13.009091383176596|         22|      People & Blogs|\n",
      "|1ZAPwfrtAFY|     17.14.11|The Trump Preside...|     LastWeekTonight|         24|2017-11-13T07:30:...|\"last week tonigh...|2418783| 97185|    6146|        12703|            FALSE|           FALSE|               2534817|  15.812723722746501| 190.41037550184996|24.888439574008334|         24|       Entertainment|\n",
      "|5qpjK5DgCt4|     17.14.11|Racist Superman |...|        Rudy Mancuso|         23|2017-11-12T19:05:...|\"racist superman|...|3191434|146033|    5339|         8181|            FALSE|           FALSE|               3350987|   27.35212586626709| 390.10316587214277|21.854197338957633|         23|              Comedy|\n",
      "|puqaWrEC7tY|     17.14.11|Nickelback Lyrics...|Good Mythical Mor...|         24|2017-11-13T11:00:...|\"rhett and link|\"...| 343168| 10172|     666|         2146|            FALSE|           FALSE|                356152|  15.273273273273274| 159.91053122087604| 33.73653165552497|         24|       Entertainment|\n",
      "|d380meD0W0M|     17.14.11|I Dare You: GOING...|            nigahiga|         24|2017-11-12T18:01:...|\"ryan|\"\"higa\"\"|\"\"...|2095731|132235|    1989|        17518|            FALSE|           FALSE|               2247473|   66.48315736551031| 119.63300605091905|15.848534805459977|         24|       Entertainment|\n",
      "|gHZ1Qz0KiKM|     17.14.11|2 Weeks with iPho...|            iJustine|         28|2017-11-13T19:07:...|\"ijustine|\"\"week ...| 119180|  9763|     511|         1434|            FALSE|           FALSE|                130888|  19.105675146771038|  83.11018131101812| 12.20731332582198|         28|Science & Technology|\n",
      "|39idVpFF7NQ|     17.14.11|Roy Moore & Jeff ...| Saturday Night Live|         24|2017-11-12T05:37:...|\"SNL|\"\"Saturday N...|2103417| 15993|    2445|         1970|            FALSE|           FALSE|               2123825|   6.541104294478528| 1067.7243654822335|131.52110298255488|         24|       Entertainment|\n",
      "|nc99ccSXST0|     17.14.11|5 Ice Cream Gadge...|  CrazyRussianHacker|         28|2017-11-12T21:50:...|\"5 Ice Cream Gadg...| 817732| 23663|     778|         3432|            FALSE|           FALSE|                845605|   30.41516709511568| 238.26689976689977|34.557410303004694|         28|Science & Technology|\n",
      "|jr9QtXwC9vc|     17.14.11|The Greatest Show...|    20th Century Fox|          1|2017-11-13T14:00:...|\"Trailer|\"\"Hugh J...| 826059|  3543|     119|          340|            FALSE|           FALSE|                830061|   29.77310924369748|  2429.585294117647|233.15241320914478|          1|    Film & Animation|\n",
      "|TUmyygCMMGA|     17.14.11|Why the rise of t...|                 Vox|         25|2017-11-13T13:45:...|\"vox.com|\"\"vox\"\"|...| 256426| 12654|    1363|         2368|            FALSE|           FALSE|                272811|   9.283932501834188| 108.28800675675676|20.264422317053896|         25|     News & Politics|\n",
      "|9wRQljFNDW8|     17.14.11|Dion Lewis' 103-Y...|                 NFL|         17|2017-11-13T02:05:...|\"NFL|\"\"Football\"\"...|  81377|   655|      25|          177|            FALSE|           FALSE|                 82234|                26.2|  459.7570621468927|124.23969465648855|         17|              Sports|\n",
      "|VifQlJit6A0|     17.14.11|(SPOILERS) 'Shiva...|                 amc|         24|2017-11-13T03:00:...|\"The Walking Dead...| 104578|  1576|     303|         1279|            FALSE|           FALSE|                107736|   5.201320132013201|  81.76544175136826| 66.35659898477158|         24|       Entertainment|\n",
      "|5E4ZBSInqUU|     17.14.11|Marshmello - Bloc...|          marshmello|         10|2017-11-13T17:00:...|\"marshmello|\"\"blo...| 687582|114188|    1333|         8371|            FALSE|           FALSE|                811474|   85.66241560390098|  82.13857364711504| 6.021490874697867|         10|               Music|\n",
      "|GgVmn66oK_A|     17.14.11|Which Countries A...|       NowThis World|         25|2017-11-12T14:00:...|\"nowthis|\"\"nowthi...| 544770|  7848|    1171|         3981|            FALSE|           FALSE|                557770|    6.70196413321947| 136.84250188394876|  69.4151376146789|         25|     News & Politics|\n",
      "|TaTleo4cOs8|     17.14.11|SHOPPING FOR NEW ...|     The king of DIY|         15|2017-11-12T18:30:...|\"shopping for new...| 207532|  7473|     246|         2120|            FALSE|           FALSE|                217371|  30.378048780487806|  97.89245283018867|27.770908604308847|         15|      Pets & Animals|\n",
      "|kgaO45SyaO4|     17.14.11|    The New SpotMini|      BostonDynamics|         28|2017-11-13T20:09:...|\"Robots|\"\"Boston ...|  75752|  9419|      52|         1230|            FALSE|           FALSE|                 86453|   181.1346153846154|   61.5869918699187|  8.04246735322221|         28|Science & Technology|\n",
      "|ZAQs-ctOqXQ|     17.14.11|One Change That W...|             Cracked|         23|2017-11-12T17:00:...|\"pacific rim|\"\"pa...| 295639|  8011|     638|         1256|            FALSE|           FALSE|                305544|  12.556426332288401|  235.3813694267516| 36.90413181874922|         23|              Comedy|\n",
      "|YVfyYrEmzgM|     17.14.11|How does your bod...|              TED-Ed|         27|2017-11-13T16:00:...|\"TED|\"\"TED-Ed\"\"|\"...|  78044|  5398|      53|          385|            FALSE|           FALSE|                 83880|  101.84905660377359|  202.7116883116883|14.457947387921452|         27|           Education|\n",
      "|eNSN6qet1kE|     17.14.11|HomeMade Electric...|         PeterSripol|         28|2017-11-13T15:30:...|\"ultralight|\"\"air...|  97007| 11963|      36|         2211|            FALSE|           FALSE|                111217|  332.30555555555554|  43.87471732247852| 8.108919167432918|         28|Science & Technology|\n",
      "|B5HORANmzHw|     17.14.11|Founding An Inbre...|             SciShow|         27|2017-11-12T22:00:...|\"SciShow|\"\"scienc...| 223871|  8421|     191|         1214|            FALSE|           FALSE|                233697|  44.089005235602095| 184.40774299835255|26.584847405296284|         27|           Education|\n",
      "+-----------+-------------+--------------------+--------------------+-----------+--------------------+--------------------+-------+------+--------+-------------+-----------------+----------------+----------------------+--------------------+-------------------+------------------+-----------+--------------------+\n",
      "only showing top 20 rows\n",
      "\n"
     ]
    }
   ],
   "source": [
    "jdf = vdf.join(cdf,vdf.category_id ==  cdf.category_id,\"left\")\n",
    "jdf.show()"
   ]
  },
  {
   "cell_type": "code",
   "execution_count": 801,
   "id": "8499e66a",
   "metadata": {},
   "outputs": [],
   "source": [
    "from pyspark.sql.functions import unix_timestamp, from_unixtime"
   ]
  },
  {
   "cell_type": "code",
   "execution_count": 802,
   "id": "7b8e43c0",
   "metadata": {},
   "outputs": [
    {
     "name": "stdout",
     "output_type": "stream",
     "text": [
      "+-----------+-------------+--------------------+--------------------+-----------+--------------------+--------------------+-------+------+--------+-------------+-----------------+----------------+----------------------+--------------------+-------------------+------------------+-----------+--------------+-----------------+----------------+\n",
      "|   video_id|trending_date|               title|       channel_title|category_id|        publish_time|                tags|  views| likes|dislikes|comment_count|comments_disabled|ratings_disabled|total_user_interaction|likes_dislikes_ratio|views_comment_ratio|  likes_view_ratio|category_id|  categor_name|trending_date_new|publish_time_new|\n",
      "+-----------+-------------+--------------------+--------------------+-----------+--------------------+--------------------+-------+------+--------+-------------+-----------------+----------------+----------------------+--------------------+-------------------+------------------+-----------+--------------+-----------------+----------------+\n",
      "|2kyS6SvSYSE|     17-14-11|WE WANT TO TALK A...|        CaseyNeistat|         22|2017-11-13T17:13:...|     SHANtell martin| 748374| 57527|    2966|        15954|            FALSE|           FALSE|                824821|  19.395482130815914| 46.908236179014665|13.009091383176596|         22|People & Blogs|       2017-11-14|      2017-11-13|\n",
      "|1ZAPwfrtAFY|     17-14-11|The Trump Preside...|     LastWeekTonight|         24|2017-11-13T07:30:...|\"last week tonigh...|2418783| 97185|    6146|        12703|            FALSE|           FALSE|               2534817|  15.812723722746501| 190.41037550184996|24.888439574008334|         24| Entertainment|       2017-11-14|      2017-11-13|\n",
      "|5qpjK5DgCt4|     17-14-11|Racist Superman |...|        Rudy Mancuso|         23|2017-11-12T19:05:...|\"racist superman|...|3191434|146033|    5339|         8181|            FALSE|           FALSE|               3350987|   27.35212586626709| 390.10316587214277|21.854197338957633|         23|        Comedy|       2017-11-14|      2017-11-13|\n",
      "|puqaWrEC7tY|     17-14-11|Nickelback Lyrics...|Good Mythical Mor...|         24|2017-11-13T11:00:...|\"rhett and link|\"...| 343168| 10172|     666|         2146|            FALSE|           FALSE|                356152|  15.273273273273274| 159.91053122087604| 33.73653165552497|         24| Entertainment|       2017-11-14|      2017-11-13|\n",
      "|d380meD0W0M|     17-14-11|I Dare You: GOING...|            nigahiga|         24|2017-11-12T18:01:...|\"ryan|\"\"higa\"\"|\"\"...|2095731|132235|    1989|        17518|            FALSE|           FALSE|               2247473|   66.48315736551031| 119.63300605091905|15.848534805459977|         24| Entertainment|       2017-11-14|      2017-11-12|\n",
      "+-----------+-------------+--------------------+--------------------+-----------+--------------------+--------------------+-------+------+--------+-------------+-----------------+----------------+----------------------+--------------------+-------------------+------------------+-----------+--------------+-----------------+----------------+\n",
      "only showing top 5 rows\n",
      "\n",
      "root\n",
      " |-- video_id: string (nullable = true)\n",
      " |-- trending_date: string (nullable = true)\n",
      " |-- title: string (nullable = true)\n",
      " |-- channel_title: string (nullable = true)\n",
      " |-- category_id: integer (nullable = true)\n",
      " |-- publish_time: string (nullable = true)\n",
      " |-- tags: string (nullable = true)\n",
      " |-- views: integer (nullable = true)\n",
      " |-- likes: integer (nullable = true)\n",
      " |-- dislikes: integer (nullable = true)\n",
      " |-- comment_count: integer (nullable = true)\n",
      " |-- comments_disabled: string (nullable = true)\n",
      " |-- ratings_disabled: string (nullable = true)\n",
      " |-- total_user_interaction: integer (nullable = true)\n",
      " |-- likes_dislikes_ratio: double (nullable = true)\n",
      " |-- views_comment_ratio: double (nullable = true)\n",
      " |-- likes_view_ratio: double (nullable = true)\n",
      " |-- category_id: integer (nullable = true)\n",
      " |-- categor_name: string (nullable = true)\n",
      " |-- trending_date_new: date (nullable = true)\n",
      " |-- publish_time_new: date (nullable = true)\n",
      "\n"
     ]
    }
   ],
   "source": [
    "\n",
    "jdf = jdf.withColumn(\"trending_date\",regexp_replace(col(\"trending_date\"), \"\\\\.\" ,\"-\"))\n",
    "jdf = jdf.withColumn(\"trending_date_new\", date_format(to_utc_timestamp(to_timestamp(\"trending_date\", \"yy-dd-MM\"), \"America/New_York\"), \"yy-dd-MM\"))\n",
    "jdf = jdf.withColumn(\"trending_date_new\",to_date(jdf.trending_date, \"yy-dd-MM\"))\n",
    "jdf = jdf.withColumn(\"publish_time_new\", date_format(to_utc_timestamp(to_timestamp(\"publish_time\", \"yyyy-MM-dd'T'HH:mm:ss.SSS'Z'\"), \"America/New_York\"), \"yyyy-MM-dd HH:mm:ss\"))\n",
    "jdf = jdf.withColumn(\"publish_time_new\",to_date(jdf.publish_time_new, \"yyyy-MM-dd HH:mm:ss\"))\n",
    "jdf.show(5)\n",
    "jdf.printSchema()"
   ]
  },
  {
   "cell_type": "code",
   "execution_count": null,
   "id": "1ed218e5",
   "metadata": {},
   "outputs": [],
   "source": []
  },
  {
   "cell_type": "code",
   "execution_count": null,
   "id": "b58be81b",
   "metadata": {},
   "outputs": [],
   "source": []
  },
  {
   "cell_type": "code",
   "execution_count": 803,
   "id": "31f3e3e8",
   "metadata": {},
   "outputs": [
    {
     "name": "stdout",
     "output_type": "stream",
     "text": [
      "+-----------+-------------+--------------------+--------------------+-----------+--------------------+--------------------+-------+------+--------+-------------+-----------------+----------------+----------------------+--------------------+-------------------+------------------+-----------+--------------+-----------------+----------------+-------------+\n",
      "|   video_id|trending_date|               title|       channel_title|category_id|        publish_time|                tags|  views| likes|dislikes|comment_count|comments_disabled|ratings_disabled|total_user_interaction|likes_dislikes_ratio|views_comment_ratio|  likes_view_ratio|category_id|  categor_name|trending_date_new|publish_time_new|year_trending|\n",
      "+-----------+-------------+--------------------+--------------------+-----------+--------------------+--------------------+-------+------+--------+-------------+-----------------+----------------+----------------------+--------------------+-------------------+------------------+-----------+--------------+-----------------+----------------+-------------+\n",
      "|2kyS6SvSYSE|     17-14-11|WE WANT TO TALK A...|        CaseyNeistat|         22|2017-11-13T17:13:...|     SHANtell martin| 748374| 57527|    2966|        15954|            FALSE|           FALSE|                824821|  19.395482130815914| 46.908236179014665|13.009091383176596|         22|People & Blogs|       2017-11-14|      2017-11-13|         2017|\n",
      "|1ZAPwfrtAFY|     17-14-11|The Trump Preside...|     LastWeekTonight|         24|2017-11-13T07:30:...|\"last week tonigh...|2418783| 97185|    6146|        12703|            FALSE|           FALSE|               2534817|  15.812723722746501| 190.41037550184996|24.888439574008334|         24| Entertainment|       2017-11-14|      2017-11-13|         2017|\n",
      "|5qpjK5DgCt4|     17-14-11|Racist Superman |...|        Rudy Mancuso|         23|2017-11-12T19:05:...|\"racist superman|...|3191434|146033|    5339|         8181|            FALSE|           FALSE|               3350987|   27.35212586626709| 390.10316587214277|21.854197338957633|         23|        Comedy|       2017-11-14|      2017-11-13|         2017|\n",
      "|puqaWrEC7tY|     17-14-11|Nickelback Lyrics...|Good Mythical Mor...|         24|2017-11-13T11:00:...|\"rhett and link|\"...| 343168| 10172|     666|         2146|            FALSE|           FALSE|                356152|  15.273273273273274| 159.91053122087604| 33.73653165552497|         24| Entertainment|       2017-11-14|      2017-11-13|         2017|\n",
      "|d380meD0W0M|     17-14-11|I Dare You: GOING...|            nigahiga|         24|2017-11-12T18:01:...|\"ryan|\"\"higa\"\"|\"\"...|2095731|132235|    1989|        17518|            FALSE|           FALSE|               2247473|   66.48315736551031| 119.63300605091905|15.848534805459977|         24| Entertainment|       2017-11-14|      2017-11-12|         2017|\n",
      "+-----------+-------------+--------------------+--------------------+-----------+--------------------+--------------------+-------+------+--------+-------------+-----------------+----------------+----------------------+--------------------+-------------------+------------------+-----------+--------------+-----------------+----------------+-------------+\n",
      "only showing top 5 rows\n",
      "\n"
     ]
    }
   ],
   "source": [
    "jdf = jdf.withColumn(\"year_trending\",year(jdf.trending_date_new))\n",
    "jdf.show(5)"
   ]
  },
  {
   "cell_type": "code",
   "execution_count": 804,
   "id": "8dbe1791",
   "metadata": {},
   "outputs": [],
   "source": [
    "#Top 3 videos of each category in each year by views\n",
    "top_three_videos_by_views_year_wise = (jdf.groupBy(\"video_id\",vdf.category_id,\"year_trending\").agg(sum(vdf.views).alias(\"total_views\")).orderBy(desc(\"total_views\")))"
   ]
  },
  {
   "cell_type": "code",
   "execution_count": 805,
   "id": "ae1548a0",
   "metadata": {},
   "outputs": [
    {
     "name": "stdout",
     "output_type": "stream",
     "text": [
      "+-----------+-----------+-------------+-----------+\n",
      "|   video_id|category_id|year_trending|total_views|\n",
      "+-----------+-----------+-------------+-----------+\n",
      "|VYOjWnS4cMY|         10|         2018| 3758488765|\n",
      "|ffxKSjUwKdU|         10|         2018| 1529291326|\n",
      "|7C2z4GqqS5E|         10|         2018| 1283188291|\n",
      "|zEf423kYfqk|         10|         2018| 1182971286|\n",
      "|u9Mv98Gr5pY|         24|         2018| 1003151226|\n",
      "|xTlNMmZKwpA|         10|         2018|  896558471|\n",
      "|     #NAME?|         10|         2018|  823920309|\n",
      "|ulNswX3If6U|          1|         2018|  818792483|\n",
      "|vjI4Alon-3Q|         10|         2018|  803455479|\n",
      "|DkeiKbqa02g|         10|         2018|  792843004|\n",
      "|FlsCjmMhFmw|         24|         2017|  780801040|\n",
      "|M4ZoCHID9GI|         10|         2018|  778810304|\n",
      "|i0p1bmr0EmE|         10|         2018|  774320575|\n",
      "|rRr1qiJRsXk|         24|         2018|  747820836|\n",
      "|n_W54baizX8|         10|         2018|  735203270|\n",
      "|tCXGJQYZ9JA|         10|         2018|  728576946|\n",
      "|6ZfuNTqbHE8|         24|         2017|  669485401|\n",
      "|U9BwWKXjVaI|         10|         2018|  583521598|\n",
      "|iWZmdoY1aTE|         10|         2018|  569737075|\n",
      "|QwievZ1Tx-8|         24|         2018|  563488956|\n",
      "+-----------+-----------+-------------+-----------+\n",
      "only showing top 20 rows\n",
      "\n"
     ]
    }
   ],
   "source": [
    "top_three_videos_by_views_year_wise.show()"
   ]
  },
  {
   "cell_type": "code",
   "execution_count": 806,
   "id": "97f3aee7",
   "metadata": {},
   "outputs": [
    {
     "name": "stdout",
     "output_type": "stream",
     "text": [
      "+-----------+-----------+-------------+--------------+\n",
      "|   video_id|category_id|year_trending|total_comments|\n",
      "+-----------+-----------+-------------+--------------+\n",
      "|7C2z4GqqS5E|         10|         2018|      15568561|\n",
      "|VYOjWnS4cMY|         10|         2018|      10151289|\n",
      "|QwZT7T-TXT0|         24|         2018|       8190045|\n",
      "|FlsCjmMhFmw|         24|         2017|       5898529|\n",
      "|oWjxSkJpxFU|         29|         2018|       4710338|\n",
      "|ffxKSjUwKdU|         10|         2018|       4143608|\n",
      "|ooyjaVdt-jA|         20|         2018|       3590220|\n",
      "|kTlv5_Bs8aw|         10|         2017|       3509630|\n",
      "|i0p1bmr0EmE|         10|         2018|       3172060|\n",
      "|p8npDG2ulKQ|         10|         2018|       3114441|\n",
      "|6ZfuNTqbHE8|         24|         2017|       2906944|\n",
      "|J2HytHu5VBI|         22|         2018|       2673859|\n",
      "|JyUKqUTp9rc|         26|         2018|       2561173|\n",
      "|FhllRWReNEE|         22|         2018|       2539351|\n",
      "|u9Mv98Gr5pY|         24|         2018|       2533352|\n",
      "|sS0LCjOiIhc|         10|         2018|       2475146|\n",
      "|kX0vO4vlJuU|         10|         2018|       2415111|\n",
      "|yDiXQl7grPQ|         28|         2018|       2402649|\n",
      "|QwievZ1Tx-8|         24|         2018|       2344044|\n",
      "|8O_MwlZ2dEg|         10|         2018|       2271161|\n",
      "+-----------+-----------+-------------+--------------+\n",
      "only showing top 20 rows\n",
      "\n"
     ]
    }
   ],
   "source": [
    "#Top 3 videos of each category ineach year by comments\n",
    "top_three_videos_by_comments_year_wise = (jdf.groupBy(\"video_id\",vdf.category_id,\"year_trending\").agg(sum(jdf.comment_count).alias(\"total_comments\")).orderBy(desc(\"total_comments\")))\n",
    "top_three_videos_by_comments_year_wise.show()"
   ]
  },
  {
   "cell_type": "code",
   "execution_count": 807,
   "id": "89780246",
   "metadata": {},
   "outputs": [
    {
     "name": "stdout",
     "output_type": "stream",
     "text": [
      "+-----------+-----------+-------------+-----------+\n",
      "|   video_id|category_id|year_trending|total_likes|\n",
      "+-----------+-----------+-------------+-----------+\n",
      "|VYOjWnS4cMY|         10|         2018|   96700818|\n",
      "|7C2z4GqqS5E|         10|         2018|   71835050|\n",
      "|ffxKSjUwKdU|         10|         2018|   49451353|\n",
      "|tCXGJQYZ9JA|         10|         2018|   24868764|\n",
      "|u9Mv98Gr5pY|         24|         2018|   23339807|\n",
      "|xTlNMmZKwpA|         10|         2018|   23078293|\n",
      "|D_6QmL6rExk|         10|         2018|   22622742|\n",
      "|kX0vO4vlJuU|         10|         2018|   22470914|\n",
      "|p8npDG2ulKQ|         10|         2018|   22189964|\n",
      "|8O_MwlZ2dEg|         10|         2018|   21994730|\n",
      "|6ZfuNTqbHE8|         24|         2017|   21555430|\n",
      "|ulNswX3If6U|          1|         2018|   20165850|\n",
      "|iWZmdoY1aTE|         10|         2018|   19836382|\n",
      "|FlsCjmMhFmw|         24|         2017|   19781372|\n",
      "|J-dv_DcDD_A|         10|         2018|   19546890|\n",
      "|nQySbNGu4g0|         10|         2018|   19369126|\n",
      "|zEf423kYfqk|         10|         2018|   19185287|\n",
      "|QwievZ1Tx-8|         24|         2018|   18763390|\n",
      "|kTlv5_Bs8aw|         10|         2017|   17388770|\n",
      "|i0p1bmr0EmE|         10|         2018|   17322894|\n",
      "+-----------+-----------+-------------+-----------+\n",
      "only showing top 20 rows\n",
      "\n"
     ]
    }
   ],
   "source": [
    "#Top 3 videos of each category ineach year by likes\n",
    "top_three_videos_by_likes_year_wise = (jdf.groupBy(\"video_id\",vdf.category_id,\"year_trending\").agg(sum(jdf.likes).alias(\"total_likes\")).orderBy(desc(\"total_likes\")))\n",
    "top_three_videos_by_likes_year_wise.show()"
   ]
  },
  {
   "cell_type": "code",
   "execution_count": 808,
   "id": "6dc584f3",
   "metadata": {},
   "outputs": [
    {
     "name": "stdout",
     "output_type": "stream",
     "text": [
      "+-----------+-----------+-------------+----------------------+\n",
      "|   video_id|category_id|year_trending|total_user_interaction|\n",
      "+-----------+-----------+-------------+----------------------+\n",
      "|VYOjWnS4cMY|         10|         2018|            3871395306|\n",
      "|ffxKSjUwKdU|         10|         2018|            1584764275|\n",
      "|7C2z4GqqS5E|         10|         2018|            1372981678|\n",
      "|zEf423kYfqk|         10|         2018|            1204950051|\n",
      "|u9Mv98Gr5pY|         24|         2018|            1029856169|\n",
      "|xTlNMmZKwpA|         10|         2018|             922240931|\n",
      "|ulNswX3If6U|          1|         2018|             840306778|\n",
      "|     #NAME?|         10|         2018|             836175559|\n",
      "|vjI4Alon-3Q|         10|         2018|             820699240|\n",
      "|FlsCjmMhFmw|         24|         2017|             816592094|\n",
      "|DkeiKbqa02g|         10|         2018|             806420962|\n",
      "|M4ZoCHID9GI|         10|         2018|             796950637|\n",
      "|i0p1bmr0EmE|         10|         2018|             796350075|\n",
      "|rRr1qiJRsXk|         24|         2018|             762763981|\n",
      "|tCXGJQYZ9JA|         10|         2018|             757070556|\n",
      "|n_W54baizX8|         10|         2018|             751354762|\n",
      "|6ZfuNTqbHE8|         24|         2017|             694350219|\n",
      "|U9BwWKXjVaI|         10|         2018|             596165793|\n",
      "|iWZmdoY1aTE|         10|         2018|             591045702|\n",
      "|QwievZ1Tx-8|         24|         2018|             584952334|\n",
      "+-----------+-----------+-------------+----------------------+\n",
      "only showing top 20 rows\n",
      "\n"
     ]
    }
   ],
   "source": [
    "#Top 3 videos of each category ineach year by user interaction\n",
    "top_three_videos_by_user_interaction_year_wise = (jdf.groupBy(\"video_id\",vdf.category_id,\"year_trending\").agg(sum(jdf.total_user_interaction).alias(\"total_user_interaction\")).orderBy(desc(\"total_user_interaction\")))\n",
    "top_three_videos_by_user_interaction_year_wise.show()"
   ]
  },
  {
   "cell_type": "code",
   "execution_count": 809,
   "id": "106eb573",
   "metadata": {},
   "outputs": [
    {
     "name": "stdout",
     "output_type": "stream",
     "text": [
      "+-----------+-------------+--------------------+--------------------+-----------+--------------------+--------------------+-------+------+--------+-------------+-----------------+----------------+----------------------+--------------------+-------------------+------------------+-----------+--------------+-----------------+----------------+-------------+--------------+\n",
      "|   video_id|trending_date|               title|       channel_title|category_id|        publish_time|                tags|  views| likes|dislikes|comment_count|comments_disabled|ratings_disabled|total_user_interaction|likes_dislikes_ratio|views_comment_ratio|  likes_view_ratio|category_id|  categor_name|trending_date_new|publish_time_new|year_trending|month_trending|\n",
      "+-----------+-------------+--------------------+--------------------+-----------+--------------------+--------------------+-------+------+--------+-------------+-----------------+----------------+----------------------+--------------------+-------------------+------------------+-----------+--------------+-----------------+----------------+-------------+--------------+\n",
      "|2kyS6SvSYSE|     17-14-11|WE WANT TO TALK A...|        CaseyNeistat|         22|2017-11-13T17:13:...|     SHANtell martin| 748374| 57527|    2966|        15954|            FALSE|           FALSE|                824821|  19.395482130815914| 46.908236179014665|13.009091383176596|         22|People & Blogs|       2017-11-14|      2017-11-13|         2017|            11|\n",
      "|1ZAPwfrtAFY|     17-14-11|The Trump Preside...|     LastWeekTonight|         24|2017-11-13T07:30:...|\"last week tonigh...|2418783| 97185|    6146|        12703|            FALSE|           FALSE|               2534817|  15.812723722746501| 190.41037550184996|24.888439574008334|         24| Entertainment|       2017-11-14|      2017-11-13|         2017|            11|\n",
      "|5qpjK5DgCt4|     17-14-11|Racist Superman |...|        Rudy Mancuso|         23|2017-11-12T19:05:...|\"racist superman|...|3191434|146033|    5339|         8181|            FALSE|           FALSE|               3350987|   27.35212586626709| 390.10316587214277|21.854197338957633|         23|        Comedy|       2017-11-14|      2017-11-13|         2017|            11|\n",
      "|puqaWrEC7tY|     17-14-11|Nickelback Lyrics...|Good Mythical Mor...|         24|2017-11-13T11:00:...|\"rhett and link|\"...| 343168| 10172|     666|         2146|            FALSE|           FALSE|                356152|  15.273273273273274| 159.91053122087604| 33.73653165552497|         24| Entertainment|       2017-11-14|      2017-11-13|         2017|            11|\n",
      "|d380meD0W0M|     17-14-11|I Dare You: GOING...|            nigahiga|         24|2017-11-12T18:01:...|\"ryan|\"\"higa\"\"|\"\"...|2095731|132235|    1989|        17518|            FALSE|           FALSE|               2247473|   66.48315736551031| 119.63300605091905|15.848534805459977|         24| Entertainment|       2017-11-14|      2017-11-12|         2017|            11|\n",
      "+-----------+-------------+--------------------+--------------------+-----------+--------------------+--------------------+-------+------+--------+-------------+-----------------+----------------+----------------------+--------------------+-------------------+------------------+-----------+--------------+-----------------+----------------+-------------+--------------+\n",
      "only showing top 5 rows\n",
      "\n"
     ]
    }
   ],
   "source": [
    "jdf = jdf.withColumn(\"month_trending\",month(jdf.trending_date_new))\n",
    "jdf.show(5)"
   ]
  },
  {
   "cell_type": "code",
   "execution_count": 810,
   "id": "217cdd28",
   "metadata": {},
   "outputs": [
    {
     "name": "stdout",
     "output_type": "stream",
     "text": [
      "+--------------+------------+\n",
      "|month_trending|total_months|\n",
      "+--------------+------------+\n",
      "|            12|        6200|\n",
      "|             5|        6199|\n",
      "|             3|        6183|\n",
      "|             1|        5796|\n",
      "|             2|        5571|\n",
      "+--------------+------------+\n",
      "only showing top 5 rows\n",
      "\n"
     ]
    }
   ],
   "source": [
    "jdf.groupBy(\"month_trending\").agg(count(jdf.month_trending).alias(\"total_months\")).orderBy(desc(\"total_months\")).show(5)"
   ]
  },
  {
   "cell_type": "code",
   "execution_count": 811,
   "id": "6a85c00e",
   "metadata": {},
   "outputs": [
    {
     "name": "stdout",
     "output_type": "stream",
     "text": [
      "+-------------+--------------+-----------+--------------------+\n",
      "|year_trending|month_trending|   video_id|likes_dislikes_ratio|\n",
      "+-------------+--------------+-----------+--------------------+\n",
      "|         2017|            12|p1af9PKM8Eo|   1484.472222222222|\n",
      "|         2018|             1|ONI_06wGbsQ|    726.046418128655|\n",
      "|         2017|            12|8Jmd7-1quDM|   619.4206349206349|\n",
      "|         2018|             1|CFwXUarN-wg|               587.0|\n",
      "|         2017|            12|w1zwGLBpULs|               552.5|\n",
      "|         2017|            11|6ixU_vdE0Es|    533.921052631579|\n",
      "|         2017|            12|exGGotfSuH0|            494.4375|\n",
      "|         2017|            12|Q48VduIflPk|  480.14790685649456|\n",
      "|         2017|            12|4SvJgnhnUag|               458.4|\n",
      "|         2017|            12|IMzf3C34NNM|   429.3666666666667|\n",
      "|         2018|             2|X5YJU6_Mfpg|   419.5860082771847|\n",
      "|         2017|            12|wwX-RSqxEXc|   410.9533333333334|\n",
      "|         2018|             1|Q48VduIflPk|   410.8503121538439|\n",
      "|         2018|             1|J41qe-TM1DY|   395.1282517526197|\n",
      "|         2018|             4|IUsFWiE0d20|   385.1215561511021|\n",
      "|         2018|             1|floMqK_yHf8|  383.50592480191534|\n",
      "|         2018|             1|__-22AJoFxY|   376.3079915971211|\n",
      "|         2018|             5|IUsFWiE0d20|              374.75|\n",
      "|         2017|            11|yF_EbNjQq3E|               371.0|\n",
      "|         2018|             2|floMqK_yHf8|  359.85700846660393|\n",
      "+-------------+--------------+-----------+--------------------+\n",
      "only showing top 20 rows\n",
      "\n"
     ]
    }
   ],
   "source": [
    "#Top 3 videos in each month by likes dislikes ratio\n",
    "likes_dislikes_ratio_by_month=jdf.groupBy(\"year_trending\",\"month_trending\",\"video_id\").agg(avg(\"likes_dislikes_ratio\").alias(\"likes_dislikes_ratio\")).orderBy(desc(\"likes_dislikes_ratio\"))\n",
    "likes_dislikes_ratio_by_month.show()"
   ]
  },
  {
   "cell_type": "code",
   "execution_count": 812,
   "id": "36fd0681",
   "metadata": {},
   "outputs": [
    {
     "name": "stdout",
     "output_type": "stream",
     "text": [
      "+-----------+-----------+--------------+-----------+\n",
      "|   video_id|category_id|month_trending|total_views|\n",
      "+-----------+-----------+--------------+-----------+\n",
      "|VYOjWnS4cMY|         10|             5| 3312786299|\n",
      "|7C2z4GqqS5E|         10|             5| 1160177371|\n",
      "|ffxKSjUwKdU|         10|             5| 1057426403|\n",
      "|zEf423kYfqk|         10|             5|  878139569|\n",
      "|xTlNMmZKwpA|         10|             6|  867607474|\n",
      "|vjI4Alon-3Q|         10|             5|  803455479|\n",
      "|DkeiKbqa02g|         10|             5|  792843004|\n",
      "|FlsCjmMhFmw|         24|            12|  780801040|\n",
      "|i0p1bmr0EmE|         10|             4|  774320575|\n",
      "|     #NAME?|         10|             3|  759834314|\n",
      "|u9Mv98Gr5pY|         24|             5|  736596294|\n",
      "|tCXGJQYZ9JA|         10|             3|  728576946|\n",
      "|6ZfuNTqbHE8|         24|            12|  631749120|\n",
      "|M4ZoCHID9GI|         10|             4|  586022448|\n",
      "|U9BwWKXjVaI|         10|             4|  583521598|\n",
      "|QwievZ1Tx-8|         24|             3|  563488956|\n",
      "|rRr1qiJRsXk|         24|             5|  550541145|\n",
      "|iWZmdoY1aTE|         10|             5|  535401393|\n",
      "|TyHvyGVs42U|         10|            11|  534738794|\n",
      "|n_W54baizX8|         10|             6|  524954959|\n",
      "+-----------+-----------+--------------+-----------+\n",
      "only showing top 20 rows\n",
      "\n"
     ]
    }
   ],
   "source": [
    "#Top 3 videos of each category in each month by views\n",
    "top_three_videos_by_views_month_wise =  (jdf.groupBy(\"video_id\",vdf.category_id,\"month_trending\").agg(sum(jdf.views).alias(\"total_views\")).orderBy(desc(\"total_views\")))\n",
    "top_three_videos_by_views_month_wise.show()"
   ]
  },
  {
   "cell_type": "code",
   "execution_count": 813,
   "id": "2c72adf4",
   "metadata": {},
   "outputs": [
    {
     "name": "stdout",
     "output_type": "stream",
     "text": [
      "+-----------+-----------+--------------+-----------+\n",
      "|   video_id|category_id|month_trending|total_likes|\n",
      "+-----------+-----------+--------------+-----------+\n",
      "|VYOjWnS4cMY|         10|             5|   86714965|\n",
      "|7C2z4GqqS5E|         10|             5|   66221223|\n",
      "|ffxKSjUwKdU|         10|             5|   28100134|\n",
      "|tCXGJQYZ9JA|         10|             3|   24868764|\n",
      "|D_6QmL6rExk|         10|             6|   22622742|\n",
      "|kX0vO4vlJuU|         10|             4|   22470914|\n",
      "|p8npDG2ulKQ|         10|             5|   22189964|\n",
      "|8O_MwlZ2dEg|         10|             3|   21994730|\n",
      "|xTlNMmZKwpA|         10|             6|   21428110|\n",
      "|ffxKSjUwKdU|         10|             4|   21351219|\n",
      "|6ZfuNTqbHE8|         24|            12|   19819535|\n",
      "|FlsCjmMhFmw|         24|            12|   19781372|\n",
      "|J-dv_DcDD_A|         10|             4|   19546890|\n",
      "|QwievZ1Tx-8|         24|             3|   18763390|\n",
      "|iWZmdoY1aTE|         10|             5|   17527049|\n",
      "|i0p1bmr0EmE|         10|             4|   17322894|\n",
      "|TyHvyGVs42U|         10|            11|   16671426|\n",
      "|aJOTlE1K90k|         10|             6|   16575099|\n",
      "|u9Mv98Gr5pY|         24|             5|   16567430|\n",
      "|J2HytHu5VBI|         22|             6|   16537616|\n",
      "+-----------+-----------+--------------+-----------+\n",
      "only showing top 20 rows\n",
      "\n"
     ]
    }
   ],
   "source": [
    "#Top 3 videos of each category in each month by likes\n",
    "top_three_videos_by_likes_month_wise =  (jdf.groupBy(\"video_id\",vdf.category_id,\"month_trending\").agg(sum(jdf.likes).alias(\"total_likes\")).orderBy(desc(\"total_likes\")))\n",
    "top_three_videos_by_likes_month_wise.show()"
   ]
  },
  {
   "cell_type": "code",
   "execution_count": 814,
   "id": "c90b75a7",
   "metadata": {},
   "outputs": [
    {
     "name": "stdout",
     "output_type": "stream",
     "text": [
      "+-----------+-----------+--------------+--------------+\n",
      "|   video_id|category_id|month_trending|total_dislikes|\n",
      "+-----------+-----------+--------------+--------------+\n",
      "|FlsCjmMhFmw|         24|            12|      10111153|\n",
      "|QwZT7T-TXT0|         24|             1|       9192539|\n",
      "|VYOjWnS4cMY|         10|             5|       5372788|\n",
      "+-----------+-----------+--------------+--------------+\n",
      "only showing top 3 rows\n",
      "\n"
     ]
    }
   ],
   "source": [
    "#Top 3 videos of each category in each month by dislikes\n",
    "top_three_videos_by_dislikes_month_wise =  (jdf.groupBy(\"video_id\",vdf.category_id,\"month_trending\").agg(sum(jdf.dislikes).alias(\"total_dislikes\")).orderBy(desc(\"total_dislikes\")))\n",
    "top_three_videos_by_dislikes_month_wise.show(3)"
   ]
  },
  {
   "cell_type": "code",
   "execution_count": 815,
   "id": "f4a53ae4",
   "metadata": {},
   "outputs": [
    {
     "name": "stdout",
     "output_type": "stream",
     "text": [
      "+-------------------+-------------------+\n",
      "|      channel_title|total_channel_views|\n",
      "+-------------------+-------------------+\n",
      "|ChildishGambinoVEVO|         3758488765|\n",
      "|            ibighit|         2235906679|\n",
      "|       Dude Perfect|         1870085178|\n",
      "+-------------------+-------------------+\n",
      "only showing top 3 rows\n",
      "\n"
     ]
    }
   ],
   "source": [
    "#Top 3 channels by views \n",
    "top_three_channels_by_view =  (jdf.groupBy(\"channel_title\").agg(sum(jdf.views).alias(\"total_channel_views\")).orderBy(desc(\"total_channel_views\")))\n",
    "top_three_channels_by_view.show(3)"
   ]
  },
  {
   "cell_type": "code",
   "execution_count": 816,
   "id": "852967a9",
   "metadata": {},
   "outputs": [
    {
     "name": "stdout",
     "output_type": "stream",
     "text": [
      "+--------------+--------------------+\n",
      "| channel_title|likes_dislikes_ratio|\n",
      "+--------------+--------------------+\n",
      "|  Smyang Piano|   1484.472222222222|\n",
      "|     Amber Liu|    726.046418128655|\n",
      "|Duan Mackenzie|   619.4206349206349|\n",
      "+--------------+--------------------+\n",
      "only showing top 3 rows\n",
      "\n"
     ]
    }
   ],
   "source": [
    "#Top 3 channels by likes\n",
    "top_three_channels_by_likes_dislikes_ratio =  (jdf.groupBy(\"channel_title\").agg(avg(\"likes_dislikes_ratio\").alias(\"likes_dislikes_ratio\")).orderBy(desc(\"likes_dislikes_ratio\")))\n",
    "top_three_channels_by_likes_dislikes_ratio.show(3)"
   ]
  },
  {
   "cell_type": "code",
   "execution_count": 817,
   "id": "c06ea95f",
   "metadata": {},
   "outputs": [
    {
     "name": "stdout",
     "output_type": "stream",
     "text": [
      "+-------------------+-------------------+\n",
      "|      channel_title|total_comment_count|\n",
      "+-------------------+-------------------+\n",
      "|            ibighit|           31817464|\n",
      "|   Logan Paul Vlogs|           14870370|\n",
      "|ChildishGambinoVEVO|           10151289|\n",
      "+-------------------+-------------------+\n",
      "only showing top 3 rows\n",
      "\n"
     ]
    }
   ],
   "source": [
    "#Top 3 channels by comments\n",
    "top_three_channels_by_comment_count =  (jdf.groupBy(\"channel_title\").agg(sum(jdf.comment_count).alias(\"total_comment_count\")).orderBy(desc(\"total_comment_count\")))\n",
    "top_three_channels_by_comment_count.show(3)"
   ]
  },
  {
   "cell_type": "code",
   "execution_count": 818,
   "id": "d7c8c0e6",
   "metadata": {},
   "outputs": [
    {
     "name": "stdout",
     "output_type": "stream",
     "text": [
      "+-----------+----------------+-----------+\n",
      "|category_id|    categor_name|total_views|\n",
      "+-----------+----------------+-----------+\n",
      "|         10|           Music|40132892190|\n",
      "|         24|   Entertainment|20604388195|\n",
      "|          1|Film & Animation| 7284156721|\n",
      "+-----------+----------------+-----------+\n",
      "only showing top 3 rows\n",
      "\n"
     ]
    }
   ],
   "source": [
    "#Top 3 categories by views\n",
    "top_three_category_by_views =  (jdf.groupBy(vdf.category_id,cdf.categor_name).agg(sum(jdf.views).alias(\"total_views\")).orderBy(desc(\"total_views\")))\n",
    "top_three_category_by_views.show(3)"
   ]
  },
  {
   "cell_type": "code",
   "execution_count": 819,
   "id": "0a98f098",
   "metadata": {},
   "outputs": [
    {
     "name": "stdout",
     "output_type": "stream",
     "text": [
      "+-----------+--------------+--------------------+\n",
      "|category_id|  categor_name|likes_dislikes_ratio|\n",
      "+-----------+--------------+--------------------+\n",
      "|         15|Pets & Animals|   62.55712745078967|\n",
      "|         10|         Music|   60.11733871888926|\n",
      "|         22|People & Blogs|  57.403180936078684|\n",
      "+-----------+--------------+--------------------+\n",
      "only showing top 3 rows\n",
      "\n"
     ]
    }
   ],
   "source": [
    "#Top 3 categories by likes dislikes ratio\n",
    "top_three_category_by_likes_dislikes_ratio =  (jdf.groupBy(vdf.category_id,cdf.categor_name).agg(avg(\"likes_dislikes_ratio\").alias(\"likes_dislikes_ratio\")).orderBy(desc(\"likes_dislikes_ratio\")))\n",
    "top_three_category_by_likes_dislikes_ratio.show(3)"
   ]
  },
  {
   "cell_type": "code",
   "execution_count": 820,
   "id": "05e8cec2",
   "metadata": {},
   "outputs": [
    {
     "name": "stdout",
     "output_type": "stream",
     "text": [
      "+-----------+--------------+-------------+\n",
      "|category_id|  categor_name|comment_count|\n",
      "+-----------+--------------+-------------+\n",
      "|         10|         Music|    125296396|\n",
      "|         24| Entertainment|     73566498|\n",
      "|         22|People & Blogs|     24778032|\n",
      "+-----------+--------------+-------------+\n",
      "only showing top 3 rows\n",
      "\n"
     ]
    }
   ],
   "source": [
    "#Top 3 categories by comments\n",
    "top_three_category_by_comments =  (jdf.groupBy(vdf.category_id,cdf.categor_name).agg(sum(\"comment_count\").alias(\"comment_count\")).orderBy(desc(\"comment_count\")))\n",
    "top_three_category_by_comments.show(3)"
   ]
  },
  {
   "cell_type": "code",
   "execution_count": 821,
   "id": "0705e06e",
   "metadata": {},
   "outputs": [
    {
     "name": "stdout",
     "output_type": "stream",
     "text": [
      "+-----------+-------------+--------------------+-------------------+-----------+--------------------+--------------------+-------+------+--------+-------------+-----------------+----------------+----------------------+--------------------+-------------------+------------------+-----------+--------------------+-----------------+----------------+-------------+--------------+\n",
      "|   video_id|trending_date|               title|      channel_title|category_id|        publish_time|                tags|  views| likes|dislikes|comment_count|comments_disabled|ratings_disabled|total_user_interaction|likes_dislikes_ratio|views_comment_ratio|  likes_view_ratio|category_id|        categor_name|trending_date_new|publish_time_new|year_trending|month_trending|\n",
      "+-----------+-------------+--------------------+-------------------+-----------+--------------------+--------------------+-------+------+--------+-------------+-----------------+----------------+----------------------+--------------------+-------------------+------------------+-----------+--------------------+-----------------+----------------+-------------+--------------+\n",
      "|5qpjK5DgCt4|     17-14-11|Racist Superman |...|       Rudy Mancuso|         23|2017-11-12T19:05:...|\"racist superman|...|3191434|146033|    5339|         8181|            FALSE|           FALSE|               3350987|   27.35212586626709| 390.10316587214277|21.854197338957633|         23|              Comedy|       2017-11-14|      2017-11-13|         2017|            11|\n",
      "|39idVpFF7NQ|     17-14-11|Roy Moore & Jeff ...|Saturday Night Live|         24|2017-11-12T05:37:...|\"SNL|\"\"Saturday N...|2103417| 15993|    2445|         1970|            FALSE|           FALSE|               2123825|   6.541104294478528| 1067.7243654822335|131.52110298255488|         24|       Entertainment|       2017-11-14|      2017-11-12|         2017|            11|\n",
      "|nc99ccSXST0|     17-14-11|5 Ice Cream Gadge...| CrazyRussianHacker|         28|2017-11-12T21:50:...|\"5 Ice Cream Gadg...| 817732| 23663|     778|         3432|            FALSE|           FALSE|                845605|   30.41516709511568| 238.26689976689977|34.557410303004694|         28|Science & Technology|       2017-11-14|      2017-11-13|         2017|            11|\n",
      "+-----------+-------------+--------------------+-------------------+-----------+--------------------+--------------------+-------+------+--------+-------------+-----------------+----------------+----------------------+--------------------+-------------------+------------------+-----------+--------------------+-----------------+----------------+-------------+--------------+\n",
      "only showing top 3 rows\n",
      "\n"
     ]
    }
   ],
   "source": [
    "#Calculate any 3 videos which got at least 5 comments on every 1000 views\n",
    "three_videos_above_five_comment_per_thousand = jdf.where(col(\"views_comment_ratio\")>1000/5)\n",
    "three_videos_above_five_comment_per_thousand.show(3)"
   ]
  },
  {
   "cell_type": "code",
   "execution_count": 822,
   "id": "e64e7963",
   "metadata": {},
   "outputs": [
    {
     "name": "stdout",
     "output_type": "stream",
     "text": [
      "+-----------+-------------+--------------------+--------------------+-----------+--------------------+--------------------+-------+-----+--------+-------------+-----------------+----------------+----------------------+--------------------+-------------------+------------------+-----------+--------------------+-----------------+----------------+-------------+--------------+\n",
      "|   video_id|trending_date|               title|       channel_title|category_id|        publish_time|                tags|  views|likes|dislikes|comment_count|comments_disabled|ratings_disabled|total_user_interaction|likes_dislikes_ratio|views_comment_ratio|  likes_view_ratio|category_id|        categor_name|trending_date_new|publish_time_new|year_trending|month_trending|\n",
      "+-----------+-------------+--------------------+--------------------+-----------+--------------------+--------------------+-------+-----+--------+-------------+-----------------+----------------+----------------------+--------------------+-------------------+------------------+-----------+--------------------+-----------------+----------------+-------------+--------------+\n",
      "|puqaWrEC7tY|     17-14-11|Nickelback Lyrics...|Good Mythical Mor...|         24|2017-11-13T11:00:...|\"rhett and link|\"...| 343168|10172|     666|         2146|            FALSE|           FALSE|                356152|  15.273273273273274| 159.91053122087604| 33.73653165552497|         24|       Entertainment|       2017-11-14|      2017-11-13|         2017|            11|\n",
      "|39idVpFF7NQ|     17-14-11|Roy Moore & Jeff ...| Saturday Night Live|         24|2017-11-12T05:37:...|\"SNL|\"\"Saturday N...|2103417|15993|    2445|         1970|            FALSE|           FALSE|               2123825|   6.541104294478528| 1067.7243654822335|131.52110298255488|         24|       Entertainment|       2017-11-14|      2017-11-12|         2017|            11|\n",
      "|nc99ccSXST0|     17-14-11|5 Ice Cream Gadge...|  CrazyRussianHacker|         28|2017-11-12T21:50:...|\"5 Ice Cream Gadg...| 817732|23663|     778|         3432|            FALSE|           FALSE|                845605|   30.41516709511568| 238.26689976689977|34.557410303004694|         28|Science & Technology|       2017-11-14|      2017-11-13|         2017|            11|\n",
      "+-----------+-------------+--------------------+--------------------+-----------+--------------------+--------------------+-------+-----+--------+-------------+-----------------+----------------+----------------------+--------------------+-------------------+------------------+-----------+--------------------+-----------------+----------------+-------------+--------------+\n",
      "only showing top 3 rows\n",
      "\n"
     ]
    }
   ],
   "source": [
    "#Calculate any 3 videos which got at least 4 likes on every 100 views\n",
    "three_videos_above_four_likes_per_hundred_views = jdf.where(col(\"likes_view_ratio\")>100/4)\n",
    "three_videos_above_four_likes_per_hundred_views.show(3)"
   ]
  },
  {
   "cell_type": "code",
   "execution_count": 823,
   "id": "00c77392",
   "metadata": {},
   "outputs": [
    {
     "name": "stdout",
     "output_type": "stream",
     "text": [
      "+-----------+--------------------+--------------------------+\n",
      "|category_id|        categor_name|number_of_videos_published|\n",
      "+-----------+--------------------+--------------------------+\n",
      "|         24|       Entertainment|                      9964|\n",
      "|         10|               Music|                      6472|\n",
      "|         26|       Howto & Style|                      4146|\n",
      "|         23|              Comedy|                      3457|\n",
      "|         22|      People & Blogs|                      3210|\n",
      "|         25|     News & Politics|                      2487|\n",
      "|         28|Science & Technology|                      2401|\n",
      "|          1|    Film & Animation|                      2345|\n",
      "|         17|              Sports|                      2174|\n",
      "|         27|           Education|                      1656|\n",
      "|         15|      Pets & Animals|                       920|\n",
      "|         20|              Gaming|                       817|\n",
      "|         19|     Travel & Events|                       402|\n",
      "|          2|    Autos & Vehicles|                       384|\n",
      "|         29|Nonprofits & Acti...|                        57|\n",
      "|         43|               Shows|                        57|\n",
      "+-----------+--------------------+--------------------------+\n",
      "\n"
     ]
    }
   ],
   "source": [
    "#Number of videos published in each category\n",
    "total_videos_by_category= jdf.groupBy(vdf.category_id,cdf.categor_name).agg(count(\"video_id\").alias(\"number_of_videos_published\")).orderBy(desc(\"number_of_videos_published\"))\n",
    "total_videos_by_category.show()"
   ]
  },
  {
   "cell_type": "code",
   "execution_count": null,
   "id": "e1882577",
   "metadata": {},
   "outputs": [],
   "source": []
  }
 ],
 "metadata": {
  "kernelspec": {
   "display_name": "Python 3 (ipykernel)",
   "language": "python",
   "name": "python3"
  },
  "language_info": {
   "codemirror_mode": {
    "name": "ipython",
    "version": 3
   },
   "file_extension": ".py",
   "mimetype": "text/x-python",
   "name": "python",
   "nbconvert_exporter": "python",
   "pygments_lexer": "ipython3",
   "version": "3.9.7"
  }
 },
 "nbformat": 4,
 "nbformat_minor": 5
}
