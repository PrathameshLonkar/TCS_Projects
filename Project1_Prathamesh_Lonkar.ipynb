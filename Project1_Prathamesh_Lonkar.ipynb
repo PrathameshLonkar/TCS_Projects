{
 "cells": [
  {
   "cell_type": "code",
   "execution_count": 201,
   "id": "e6a91c17",
   "metadata": {},
   "outputs": [],
   "source": [
    "from pyspark.sql.session import SparkSession"
   ]
  },
  {
   "cell_type": "code",
   "execution_count": 202,
   "id": "613ad424",
   "metadata": {},
   "outputs": [],
   "source": [
    "from pyspark.context import SparkContext"
   ]
  },
  {
   "cell_type": "code",
   "execution_count": 203,
   "id": "da03ba5b",
   "metadata": {},
   "outputs": [],
   "source": [
    "from pyspark.sql.functions import *"
   ]
  },
  {
   "cell_type": "code",
   "execution_count": 204,
   "id": "489a4887",
   "metadata": {},
   "outputs": [],
   "source": [
    "from pyspark.sql.types import *"
   ]
  },
  {
   "cell_type": "code",
   "execution_count": 205,
   "id": "d2f4add8",
   "metadata": {},
   "outputs": [],
   "source": [
    "from pyspark.sql import *\n",
    "from pyspark.sql import functions as F"
   ]
  },
  {
   "cell_type": "code",
   "execution_count": 206,
   "id": "0778d56d",
   "metadata": {},
   "outputs": [],
   "source": [
    "schema = StructType(\n",
    "    [\n",
    "        StructField(\"id\", IntegerType(), True),\n",
    "        StructField(\"order_status\", StringType(), True),\n",
    "        StructField(\"order_products_value\", DoubleType(), True),\n",
    "        StructField(\"order_freight_value\", DoubleType(), True),\n",
    "        StructField(\"order_items_qty\", IntegerType(), True),\n",
    "        StructField(\"customer_city\", StringType(), True),\n",
    "        StructField(\"customer_state\", StringType(), True),\n",
    "        StructField(\"customer_zip_code_prefix\", IntegerType(), True),\n",
    "        StructField(\"product_name_length\", IntegerType(), True),\n",
    "        StructField(\"product_description_length\", IntegerType(), True),\n",
    "        StructField(\"product_photos_qty\", IntegerType(), True),\n",
    "        StructField(\"review_score\", IntegerType(), True),\n",
    "        StructField(\"order_purchase_timestamp\", StringType(), True),\n",
    "        StructField(\"order_approved_at\", StringType(), True),\n",
    "        StructField(\"order_delivered_customer_date\", StringType(), True),\n",
    "    ]\n",
    ")"
   ]
  },
  {
   "cell_type": "code",
   "execution_count": 207,
   "id": "da3c86c8",
   "metadata": {},
   "outputs": [],
   "source": [
    "spark = SparkSession.builder.appName(\"Project_1\").getOrCreate()\n",
    "#was having problem with converting string to date hence used older version of spark\n",
    "spark.conf.set(\"spark.sql.legacy.timeParserPolicy\",\"LEGACY\")"
   ]
  },
  {
   "cell_type": "code",
   "execution_count": 208,
   "id": "e6b279f0",
   "metadata": {},
   "outputs": [
    {
     "name": "stdout",
     "output_type": "stream",
     "text": [
      "+---+------------+--------------------+-------------------+---------------+--------------+--------------+------------------------+-------------------+--------------------------+------------------+------------+------------------------+-----------------+-----------------------------+\n",
      "| id|order_status|order_products_value|order_freight_value|order_items_qty| customer_city|customer_state|customer_zip_code_prefix|product_name_length|product_description_length|product_photos_qty|review_score|order_purchase_timestamp|order_approved_at|order_delivered_customer_date|\n",
      "+---+------------+--------------------+-------------------+---------------+--------------+--------------+------------------------+-------------------+--------------------------+------------------+------------+------------------------+-----------------+-----------------------------+\n",
      "|  1|   delivered|                79.0|               17.8|              1|      Luziania|            GO|                     728|                 50|                       201|                 2|           5|          02/10/17 10:56|   02/10/17 11:07|               10/10/17 21:25|\n",
      "|  2|   delivered|               119.9|              27.16|              1|     Joinville|            SC|                     892|                 50|                       511|                 3|           5|          24/07/18 20:41|    26/07/18 3:24|               07/08/18 15:27|\n",
      "|  3|   delivered|              519.99|              41.69|              1|         Serra|            ES|                     291|                 48|                      1156|                 2|           1|           08/08/18 8:38|    08/08/18 8:55|               17/08/18 18:06|\n",
      "|  4|   delivered|                29.5|              17.92|              1|RIO DE JANEIRO|            RJ|                     222|                 21|                       207|                 2|           4|          18/11/17 19:28|   18/11/17 19:45|                02/12/17 0:28|\n",
      "|  5|   delivered|               26.77|              23.11|              1|     Sao Paulo|            SP|                      40|                 41|                       451|                 1|           5|          13/02/18 21:18|   13/02/18 22:20|               16/02/18 18:17|\n",
      "+---+------------+--------------------+-------------------+---------------+--------------+--------------+------------------------+-------------------+--------------------------+------------------+------------+------------------------+-----------------+-----------------------------+\n",
      "only showing top 5 rows\n",
      "\n"
     ]
    }
   ],
   "source": [
    "#use the path to your file \n",
    "df1 =  spark.read.csv(\"C:/Users/16072/Downloads/olist_public_dataset.csv\", header=False, schema=schema)\n",
    "df1.show(5)"
   ]
  },
  {
   "cell_type": "code",
   "execution_count": 209,
   "id": "aa59d914",
   "metadata": {},
   "outputs": [
    {
     "name": "stdout",
     "output_type": "stream",
     "text": [
      "root\n",
      " |-- id: integer (nullable = true)\n",
      " |-- order_status: string (nullable = true)\n",
      " |-- order_products_value: double (nullable = true)\n",
      " |-- order_freight_value: double (nullable = true)\n",
      " |-- order_items_qty: integer (nullable = true)\n",
      " |-- customer_city: string (nullable = true)\n",
      " |-- customer_state: string (nullable = true)\n",
      " |-- customer_zip_code_prefix: integer (nullable = true)\n",
      " |-- product_name_length: integer (nullable = true)\n",
      " |-- product_description_length: integer (nullable = true)\n",
      " |-- product_photos_qty: integer (nullable = true)\n",
      " |-- review_score: integer (nullable = true)\n",
      " |-- order_purchase_timestamp: string (nullable = true)\n",
      " |-- order_approved_at: string (nullable = true)\n",
      " |-- order_delivered_customer_date: string (nullable = true)\n",
      "\n"
     ]
    }
   ],
   "source": [
    "df1.printSchema()\n"
   ]
  },
  {
   "cell_type": "code",
   "execution_count": null,
   "id": "e9c78ae4",
   "metadata": {},
   "outputs": [],
   "source": []
  },
  {
   "cell_type": "code",
   "execution_count": 210,
   "id": "f8249f76",
   "metadata": {},
   "outputs": [],
   "source": [
    "df1 = df1.withColumn(\"order_purchase_date\", to_date(df1.order_purchase_timestamp, \"dd/mm/yy HH:mm\"))\n",
    "df1 = df1.withColumn(\"order_approval_date\", to_date(df1.order_approved_at, \"dd/mm/yy HH:mm\"))\n",
    "df1 = df1.withColumn(\"order_delivered_date\", to_date(df1.order_delivered_customer_date, \"dd/mm/yy HH:mm\"))\n",
    "df1 = df1.withColumn(\"purchase_dayofyear\", dayofyear(df1[\"order_purchase_date\"]))\n",
    "df1 = df1.withColumn(\"approved_dayofyear\", dayofyear(df1[\"order_approval_date\"]))\n",
    "df1 = df1.withColumn(\"delivered_dayofyear\", dayofyear(df1[\"order_delivered_date\"]))\n",
    "df1 = df1.withColumn(\"approval_daily_time_taken\", df1[\"approved_dayofyear\"] - df1[\"purchase_dayofyear\"])\n",
    "df1 = df1.withColumn(\"delivery_daily_time_taken\", df1[\"delivered_dayofyear\"] - df1[\"approved_dayofyear\"])\n"
   ]
  },
  {
   "cell_type": "code",
   "execution_count": 211,
   "id": "73be598f",
   "metadata": {},
   "outputs": [],
   "source": [
    "#ts = to_timestamp(\"order_purchase_timestamp\",\"dd/MM/yy  HH:mm\")\n",
    "#df1 = df1.withColumn(\"order_purchase_timestamp\",ts)\n",
    "#ts1 = to_timestamp(\"order_approved_at\",\"dd/MM/yy  HH:mm\")\n",
    "#df1 = df1.withColumn(\"order_approved_at\",ts1)\n",
    "#ts2 = to_timestamp(\"order_delivered_customer_date\",\"dd/MM/yy  HH:mm\")\n",
    "#df1 = df1.withColumn(\"order_delivered_customer_date\",ts2)"
   ]
  },
  {
   "cell_type": "code",
   "execution_count": 212,
   "id": "60922207",
   "metadata": {},
   "outputs": [
    {
     "name": "stdout",
     "output_type": "stream",
     "text": [
      "root\n",
      " |-- id: integer (nullable = true)\n",
      " |-- order_status: string (nullable = true)\n",
      " |-- order_products_value: double (nullable = true)\n",
      " |-- order_freight_value: double (nullable = true)\n",
      " |-- order_items_qty: integer (nullable = true)\n",
      " |-- customer_city: string (nullable = true)\n",
      " |-- customer_state: string (nullable = true)\n",
      " |-- customer_zip_code_prefix: integer (nullable = true)\n",
      " |-- product_name_length: integer (nullable = true)\n",
      " |-- product_description_length: integer (nullable = true)\n",
      " |-- product_photos_qty: integer (nullable = true)\n",
      " |-- review_score: integer (nullable = true)\n",
      " |-- order_purchase_timestamp: string (nullable = true)\n",
      " |-- order_approved_at: string (nullable = true)\n",
      " |-- order_delivered_customer_date: string (nullable = true)\n",
      " |-- order_purchase_date: date (nullable = true)\n",
      " |-- order_approval_date: date (nullable = true)\n",
      " |-- order_delivered_date: date (nullable = true)\n",
      " |-- purchase_dayofyear: integer (nullable = true)\n",
      " |-- approved_dayofyear: integer (nullable = true)\n",
      " |-- delivered_dayofyear: integer (nullable = true)\n",
      " |-- approval_daily_time_taken: integer (nullable = true)\n",
      " |-- delivery_daily_time_taken: integer (nullable = true)\n",
      "\n"
     ]
    }
   ],
   "source": [
    "df1.printSchema()"
   ]
  },
  {
   "cell_type": "code",
   "execution_count": 213,
   "id": "e1b8a712",
   "metadata": {},
   "outputs": [
    {
     "name": "stdout",
     "output_type": "stream",
     "text": [
      "+---+------------+--------------------+-------------------+---------------+-------------------+--------------+------------------------+-------------------+--------------------------+------------------+------------+------------------------+-----------------+-----------------------------+-------------------+-------------------+--------------------+------------------+------------------+-------------------+-------------------------+-------------------------+\n",
      "| id|order_status|order_products_value|order_freight_value|order_items_qty|      customer_city|customer_state|customer_zip_code_prefix|product_name_length|product_description_length|product_photos_qty|review_score|order_purchase_timestamp|order_approved_at|order_delivered_customer_date|order_purchase_date|order_approval_date|order_delivered_date|purchase_dayofyear|approved_dayofyear|delivered_dayofyear|approval_daily_time_taken|delivery_daily_time_taken|\n",
      "+---+------------+--------------------+-------------------+---------------+-------------------+--------------+------------------------+-------------------+--------------------------+------------------+------------+------------------------+-----------------+-----------------------------+-------------------+-------------------+--------------------+------------------+------------------+-------------------+-------------------------+-------------------------+\n",
      "|  1|   delivered|                79.0|               17.8|              1|           Luziania|            GO|                     728|                 50|                       201|                 2|           5|          02/10/17 10:56|   02/10/17 11:07|               10/10/17 21:25|         2017-01-02|         2017-01-02|          2017-01-10|                 2|                 2|                 10|                        0|                        8|\n",
      "|  2|   delivered|               119.9|              27.16|              1|          Joinville|            SC|                     892|                 50|                       511|                 3|           5|          24/07/18 20:41|    26/07/18 3:24|               07/08/18 15:27|         2018-01-24|         2018-01-26|          2018-01-07|                24|                26|                  7|                        2|                      -19|\n",
      "|  3|   delivered|              519.99|              41.69|              1|              Serra|            ES|                     291|                 48|                      1156|                 2|           1|           08/08/18 8:38|    08/08/18 8:55|               17/08/18 18:06|         2018-01-08|         2018-01-08|          2018-01-17|                 8|                 8|                 17|                        0|                        9|\n",
      "|  4|   delivered|                29.5|              17.92|              1|     RIO DE JANEIRO|            RJ|                     222|                 21|                       207|                 2|           4|          18/11/17 19:28|   18/11/17 19:45|                02/12/17 0:28|         2017-01-18|         2017-01-18|          2017-01-02|                18|                18|                  2|                        0|                      -16|\n",
      "|  5|   delivered|               26.77|              23.11|              1|          Sao Paulo|            SP|                      40|                 41|                       451|                 1|           5|          13/02/18 21:18|   13/02/18 22:20|               16/02/18 18:17|         2018-01-13|         2018-01-13|          2018-01-16|                13|                13|                 16|                        0|                        3|\n",
      "|  6|   delivered|               419.9|              23.02|              1|       Santa Adelia|            SP|                     159|                 46|                       692|                 3|           5|          09/07/17 21:57|   09/07/17 22:10|               26/07/17 10:57|         2017-01-09|         2017-01-09|          2017-01-26|                 9|                 9|                 26|                        0|                       17|\n",
      "|  7|   delivered|                65.0|              16.21|              1|           Varginha|            MG|                     370|                 47|                       893|                 3|           5|          11/04/17 12:22|   13/04/17 13:25|               13/04/17 13:25|         2017-01-11|         2017-01-13|          2017-01-13|                11|                13|                 13|                        2|                        0|\n",
      "|  8|   delivered|               29.99|              19.82|              1|          Sao Paulo|            SP|                      48|                 55|                       613|                 1|           4|          16/05/17 13:10|   16/05/17 13:22|               26/05/17 12:55|         2017-01-16|         2017-01-16|          2017-01-26|                16|                16|                 26|                        0|                       10|\n",
      "|  9|   delivered|               59.99|              51.14|              1|            Carajas|            PA|                     685|                 28|                        96|                 4|           5|          23/01/17 18:29|    25/01/17 2:50|               02/02/17 14:08|         2017-01-23|         2017-01-25|          2017-01-02|                23|                25|                  2|                        2|                      -23|\n",
      "| 10|   delivered|               56.99|              16.13|              1|            Resende|            RJ|                     275|                 59|                       641|                 3|           5|          29/07/17 11:55|   29/07/17 12:05|               16/08/17 17:14|         2017-01-29|         2017-01-29|          2017-01-16|                29|                29|                 16|                        0|                      -13|\n",
      "| 11|   delivered|               599.0|              15.69|              1|      Guaratingueta|            SP|                     125|                 43|                      1686|                 2|           4|          16/05/17 19:41|   16/05/17 19:50|               29/05/17 11:18|         2017-01-16|         2017-01-16|          2017-01-29|                16|                16|                 29|                        0|                       13|\n",
      "| 12|   delivered|                62.0|              16.19|              1|            Tijucas|            SC|                     882|                 50|                       285|                 1|           4|          13/07/17 19:58|   13/07/17 20:10|               19/07/17 14:04|         2017-01-13|         2017-01-13|          2017-01-19|                13|                13|                 19|                        0|                        6|\n",
      "| 13|   delivered|               250.0|              35.02|              1|           Mirassol|            SP|                     151|                 57|                       771|                 1|           1|          07/06/18 10:06|    09/06/18 3:13|               19/06/18 12:05|         2018-01-07|         2018-01-09|          2018-01-19|                 7|                 9|                 19|                        2|                       10|\n",
      "| 14|   delivered|                69.9|              12.93|              1|          SAO PAULO|            SP|                      82|                 57|                       427|                 1|           4|          25/07/18 17:44|   25/07/18 17:55|               30/07/18 15:52|         2018-01-25|         2018-01-25|          2018-01-30|                25|                25|                 30|                        0|                        5|\n",
      "| 15|   delivered|               250.0|               16.5|              1|               Bage|            RS|                     964|                 55|                       255|                 1|           5|          01/03/18 14:14|   01/03/18 15:10|               12/03/18 23:36|         2018-01-01|         2018-01-01|          2018-01-12|                 1|                 1|                 12|                        0|                       11|\n",
      "| 16|   delivered|                79.9|               7.82|              1|            Cubatao|            SP|                     115|                 33|                       484|                 3|           3|          07/06/18 19:03|   12/06/18 23:31|               21/06/18 15:34|         2018-01-07|         2018-01-12|          2018-01-21|                 7|                12|                 21|                        5|                        9|\n",
      "| 17|   delivered|                32.0|              19.41|              1|          Jaraguari|            MS|                     794|                 57|                       529|                 4|           4|          02/01/18 19:00|   02/01/18 19:09|                20/01/18 1:38|         2018-01-02|         2018-01-02|          2018-01-20|                 2|                 2|                 20|                        0|                       18|\n",
      "| 18|   delivered|               287.7|              15.37|              1|Presidente Prudente|            SP|                     190|                 45|                      3793|                 2|           5|          26/12/17 23:41|   26/12/17 23:50|               08/01/18 22:36|         2017-01-26|         2017-01-26|          2018-01-08|                26|                26|                  8|                        0|                      -18|\n",
      "| 19|   delivered|               59.99|              15.18|              1|   Cidade Ocidental|            GO|                     728|                 44|                      1854|                 6|           3|           21/11/17 0:03|    21/11/17 0:14|               27/11/17 18:28|         2017-01-21|         2017-01-21|          2017-01-27|                21|                21|                 27|                        0|                        6|\n",
      "| 20|   delivered|              1200.0|              60.76|              1|Sao Lourenco do Sul|            RS|                     961|                 55|                      3632|                 4|           4|          26/10/17 15:54|   26/10/17 16:08|               08/11/17 22:22|         2017-01-26|         2017-01-26|          2017-01-08|                26|                26|                  8|                        0|                      -18|\n",
      "+---+------------+--------------------+-------------------+---------------+-------------------+--------------+------------------------+-------------------+--------------------------+------------------+------------+------------------------+-----------------+-----------------------------+-------------------+-------------------+--------------------+------------------+------------------+-------------------+-------------------------+-------------------------+\n",
      "only showing top 20 rows\n",
      "\n"
     ]
    }
   ],
   "source": [
    "df1.show()"
   ]
  },
  {
   "cell_type": "code",
   "execution_count": 214,
   "id": "d57afa8d",
   "metadata": {},
   "outputs": [],
   "source": [
    "#Daily Insights: Sales: a.) Total sales\n",
    "total = (df1.where(col(\"order_status\")==\"delivered\").agg(sum(\"order_products_value\")))"
   ]
  },
  {
   "cell_type": "code",
   "execution_count": 215,
   "id": "212816c0",
   "metadata": {},
   "outputs": [
    {
     "name": "stdout",
     "output_type": "stream",
     "text": [
      "+-------------------------+\n",
      "|sum(order_products_value)|\n",
      "+-------------------------+\n",
      "|     1.2463991470001653E7|\n",
      "+-------------------------+\n",
      "\n"
     ]
    }
   ],
   "source": [
    "total.show()\n"
   ]
  },
  {
   "cell_type": "code",
   "execution_count": 216,
   "id": "0215b125",
   "metadata": {},
   "outputs": [],
   "source": [
    "#Daily Insights: Sales: b.) Total sales in each customer city\n",
    "total_city_wise = (df1.where(col(\"order_status\")==\"delivered\").groupBy(\"customer_city\",\"order_purchase_date\").agg(sum(\"order_products_value\")).orderBy(desc(sum(\"order_products_value\"))))"
   ]
  },
  {
   "cell_type": "code",
   "execution_count": 217,
   "id": "8ec855bb",
   "metadata": {},
   "outputs": [
    {
     "name": "stdout",
     "output_type": "stream",
     "text": [
      "+-------------+-------------------+-------------------------+\n",
      "|customer_city|order_purchase_date|sum(order_products_value)|\n",
      "+-------------+-------------------+-------------------------+\n",
      "|    Sao Paulo|         2017-01-24|        38429.24999999996|\n",
      "|    Sao Paulo|         2018-01-15|        37464.58999999997|\n",
      "|    Sao Paulo|         2018-01-22|        34589.61999999997|\n",
      "|    Sao Paulo|         2018-01-17|        33850.34999999998|\n",
      "|    Sao Paulo|         2018-01-08|        33396.04999999997|\n",
      "|    Sao Paulo|         2018-01-02|        32917.91999999997|\n",
      "|    Sao Paulo|         2018-01-20|        32874.87999999997|\n",
      "|    Sao Paulo|         2018-01-03|        31668.32999999997|\n",
      "|    Sao Paulo|         2018-01-07|        31401.03999999997|\n",
      "|    Sao Paulo|         2018-01-16|       31181.549999999974|\n",
      "|    Sao Paulo|         2018-01-14|       31123.859999999975|\n",
      "|    Sao Paulo|         2017-01-29|        30931.78999999998|\n",
      "|    Sao Paulo|         2018-01-19|        30373.95999999997|\n",
      "|    Sao Paulo|         2018-01-12|       30209.119999999974|\n",
      "|    Sao Paulo|         2018-01-13|        28555.32999999998|\n",
      "|    Sao Paulo|         2018-01-05|       28487.279999999977|\n",
      "|    Sao Paulo|         2018-01-01|       28053.879999999983|\n",
      "|    Sao Paulo|         2018-01-06|        27927.48999999998|\n",
      "|    Sao Paulo|         2018-01-04|       27914.809999999976|\n",
      "|    Sao Paulo|         2018-01-18|       27832.959999999977|\n",
      "+-------------+-------------------+-------------------------+\n",
      "only showing top 20 rows\n",
      "\n"
     ]
    }
   ],
   "source": [
    "total_city_wise.show()"
   ]
  },
  {
   "cell_type": "code",
   "execution_count": 218,
   "id": "f78e419c",
   "metadata": {},
   "outputs": [],
   "source": [
    "#Daily Insights: Sales: c.) Total sales in each customer state\n",
    "total_state_wise = (df1.where(col(\"order_status\")==\"delivered\").groupBy(\"customer_state\",\"order_purchase_date\").agg(sum(\"order_products_value\")).orderBy(desc(\"sum(order_products_value)\")))"
   ]
  },
  {
   "cell_type": "code",
   "execution_count": 219,
   "id": "e48a9628",
   "metadata": {},
   "outputs": [
    {
     "name": "stdout",
     "output_type": "stream",
     "text": [
      "+--------------+-------------------+-------------------------+\n",
      "|customer_state|order_purchase_date|sum(order_products_value)|\n",
      "+--------------+-------------------+-------------------------+\n",
      "|            SP|         2017-01-24|       106880.75000000019|\n",
      "|            SP|         2018-01-16|        105040.3600000002|\n",
      "|            SP|         2018-01-22|         95857.3400000002|\n",
      "|            SP|         2018-01-15|        95691.33000000019|\n",
      "|            SP|         2018-01-14|        95463.86000000015|\n",
      "|            SP|         2018-01-05|         95331.7600000002|\n",
      "|            SP|         2018-01-03|        93313.03000000025|\n",
      "|            SP|         2018-01-06|        91938.58000000022|\n",
      "|            SP|         2018-01-07|        91411.18000000018|\n",
      "|            SP|         2018-01-01|        90869.40000000014|\n",
      "|            SP|         2018-01-08|        90313.09000000019|\n",
      "|            SP|         2018-01-17|        89625.98000000017|\n",
      "|            SP|         2018-01-19|        88255.42000000019|\n",
      "|            SP|         2018-01-12|        87589.35000000017|\n",
      "|            SP|         2018-01-02|         86546.1200000002|\n",
      "|            SP|         2018-01-18|        86538.73000000013|\n",
      "|            SP|         2018-01-09|        86025.11000000013|\n",
      "|            SP|         2018-01-20|        85965.89000000016|\n",
      "|            SP|         2018-01-04|        83078.81000000016|\n",
      "|            SP|         2018-01-26|        82219.06000000014|\n",
      "+--------------+-------------------+-------------------------+\n",
      "only showing top 20 rows\n",
      "\n"
     ]
    }
   ],
   "source": [
    "total_state_wise.show()"
   ]
  },
  {
   "cell_type": "code",
   "execution_count": 220,
   "id": "d615b306",
   "metadata": {},
   "outputs": [],
   "source": [
    "# Orders: a.) Total number of orders sold\n",
    "total_orders_sold=(df1.where(col(\"order_status\")==\"delivered\").groupBy(\"order_purchase_date\").agg(count(\"id\")).orderBy(desc(\"count(id)\")))"
   ]
  },
  {
   "cell_type": "code",
   "execution_count": 221,
   "id": "698705d7",
   "metadata": {},
   "outputs": [
    {
     "name": "stdout",
     "output_type": "stream",
     "text": [
      "+-------------------+---------+\n",
      "|order_purchase_date|count(id)|\n",
      "+-------------------+---------+\n",
      "|         2017-01-24|     2284|\n",
      "|         2018-01-16|     2098|\n",
      "|         2018-01-15|     2051|\n",
      "|         2018-01-07|     1901|\n",
      "|         2018-01-04|     1894|\n",
      "|         2018-01-03|     1893|\n",
      "|         2018-01-14|     1891|\n",
      "|         2018-01-18|     1888|\n",
      "|         2018-01-19|     1880|\n",
      "|         2018-01-08|     1868|\n",
      "|         2018-01-02|     1861|\n",
      "|         2018-01-09|     1847|\n",
      "|         2018-01-05|     1846|\n",
      "|         2018-01-06|     1845|\n",
      "|         2018-01-20|     1814|\n",
      "|         2018-01-22|     1804|\n",
      "|         2018-01-13|     1763|\n",
      "|         2018-01-11|     1757|\n",
      "|         2018-01-17|     1752|\n",
      "|         2018-01-21|     1748|\n",
      "+-------------------+---------+\n",
      "only showing top 20 rows\n",
      "\n"
     ]
    }
   ],
   "source": [
    "total_orders_sold.show()"
   ]
  },
  {
   "cell_type": "code",
   "execution_count": 222,
   "id": "197ceab0",
   "metadata": {},
   "outputs": [],
   "source": [
    "#Orders: b.) City wise order distribution\n",
    "total_orders_sold_city_wise=(df1.where(col(\"order_status\")==\"delivered\").groupBy(\"customer_city\",\"order_purchase_date\").agg(count(\"id\")).orderBy(desc(\"count(id)\")))"
   ]
  },
  {
   "cell_type": "code",
   "execution_count": 223,
   "id": "93990b42",
   "metadata": {},
   "outputs": [
    {
     "name": "stdout",
     "output_type": "stream",
     "text": [
      "+-------------+-------------------+---------+\n",
      "|customer_city|order_purchase_date|count(id)|\n",
      "+-------------+-------------------+---------+\n",
      "|    Sao Paulo|         2017-01-24|      320|\n",
      "|    Sao Paulo|         2018-01-02|      284|\n",
      "|    Sao Paulo|         2018-01-07|      284|\n",
      "|    Sao Paulo|         2018-01-15|      283|\n",
      "|    Sao Paulo|         2018-01-16|      283|\n",
      "|    Sao Paulo|         2018-01-20|      277|\n",
      "|    Sao Paulo|         2018-01-03|      270|\n",
      "|    Sao Paulo|         2018-01-19|      265|\n",
      "|    Sao Paulo|         2018-01-08|      263|\n",
      "|    Sao Paulo|         2018-01-04|      262|\n",
      "|    Sao Paulo|         2018-01-14|      258|\n",
      "|    Sao Paulo|         2018-01-17|      257|\n",
      "|    Sao Paulo|         2018-01-05|      251|\n",
      "|    Sao Paulo|         2018-01-09|      250|\n",
      "|    Sao Paulo|         2018-01-18|      250|\n",
      "|    Sao Paulo|         2018-01-21|      250|\n",
      "|    Sao Paulo|         2018-01-22|      250|\n",
      "|    Sao Paulo|         2018-01-13|      246|\n",
      "|    Sao Paulo|         2018-01-06|      246|\n",
      "|    Sao Paulo|         2018-01-26|      246|\n",
      "+-------------+-------------------+---------+\n",
      "only showing top 20 rows\n",
      "\n"
     ]
    }
   ],
   "source": [
    "total_orders_sold_city_wise.show()"
   ]
  },
  {
   "cell_type": "code",
   "execution_count": 224,
   "id": "a564cf8d",
   "metadata": {},
   "outputs": [
    {
     "name": "stdout",
     "output_type": "stream",
     "text": [
      "+--------------+-------------------+---------+\n",
      "|customer_state|order_purchase_date|count(id)|\n",
      "+--------------+-------------------+---------+\n",
      "|            SP|         2017-01-24|      921|\n",
      "|            SP|         2018-01-16|      872|\n",
      "|            SP|         2018-01-15|      824|\n",
      "|            SP|         2018-01-19|      811|\n",
      "|            SP|         2018-01-05|      806|\n",
      "|            SP|         2018-01-03|      794|\n",
      "|            SP|         2018-01-02|      793|\n",
      "|            SP|         2018-01-14|      780|\n",
      "|            SP|         2018-01-07|      778|\n",
      "|            SP|         2018-01-04|      775|\n",
      "|            SP|         2018-01-18|      774|\n",
      "|            SP|         2018-01-08|      771|\n",
      "|            SP|         2018-01-09|      765|\n",
      "|            SP|         2018-01-22|      757|\n",
      "|            SP|         2018-01-21|      756|\n",
      "|            SP|         2018-01-06|      750|\n",
      "|            SP|         2018-01-20|      743|\n",
      "|            SP|         2018-01-13|      735|\n",
      "|            SP|         2018-01-17|      730|\n",
      "|            SP|         2018-01-10|      711|\n",
      "+--------------+-------------------+---------+\n",
      "only showing top 20 rows\n",
      "\n"
     ]
    }
   ],
   "source": [
    "#Orders c.) State wise order distribution\n",
    "total_orders_sold_state_wise=(df1.where(col(\"order_status\")==\"delivered\").groupBy(\"customer_state\",\"order_purchase_date\").agg(count(\"id\")).orderBy(desc(\"count(id)\")))\n",
    "total_orders_sold_state_wise.show()"
   ]
  },
  {
   "cell_type": "code",
   "execution_count": 225,
   "id": "b6abd4ec",
   "metadata": {},
   "outputs": [
    {
     "name": "stdout",
     "output_type": "stream",
     "text": [
      "+-------------------+------------------+---------+\n",
      "|order_purchase_date| avg(review_score)|count(id)|\n",
      "+-------------------+------------------+---------+\n",
      "|         2017-01-24| 4.116024518388792|     2284|\n",
      "|         2018-01-16|4.1549094375595805|     2098|\n",
      "|         2018-01-15| 4.077523159434422|     2051|\n",
      "|         2018-01-07| 4.105207785376118|     1901|\n",
      "|         2018-01-04| 4.150475184794087|     1894|\n",
      "|         2018-01-03| 4.161648177496038|     1893|\n",
      "|         2018-01-14| 4.144368059227922|     1891|\n",
      "|         2018-01-18| 4.132415254237288|     1888|\n",
      "|         2018-01-19| 4.131382978723404|     1880|\n",
      "|         2018-01-08| 4.111884368308351|     1868|\n",
      "|         2018-01-02|  4.15260612573885|     1861|\n",
      "|         2018-01-09| 4.121819166215484|     1847|\n",
      "|         2018-01-05| 4.076381365113759|     1846|\n",
      "|         2018-01-06|4.0910569105691055|     1845|\n",
      "|         2018-01-20| 4.071664829106946|     1814|\n",
      "|         2018-01-22|4.1042128603104215|     1804|\n",
      "|         2018-01-13|4.0567214974475325|     1763|\n",
      "|         2018-01-11| 4.101878201479795|     1757|\n",
      "|         2018-01-17| 4.088470319634703|     1752|\n",
      "|         2018-01-21| 4.046338672768878|     1748|\n",
      "+-------------------+------------------+---------+\n",
      "only showing top 20 rows\n",
      "\n"
     ]
    }
   ],
   "source": [
    "#orders d.) Average Review score per order\n",
    "total_orders_average_review_score=(df1.where(col(\"order_status\")==\"delivered\").groupBy(\"order_purchase_date\").agg(avg(\"review_score\"), count(\"id\")).orderBy(desc(\"count(id)\")))\n",
    "total_orders_average_review_score.show()"
   ]
  },
  {
   "cell_type": "code",
   "execution_count": 226,
   "id": "c58d4f3d",
   "metadata": {},
   "outputs": [
    {
     "name": "stdout",
     "output_type": "stream",
     "text": [
      "+-------------------+------------------------+---------+\n",
      "|order_purchase_date|avg(order_freight_value)|count(id)|\n",
      "+-------------------+------------------------+---------+\n",
      "|         2017-01-24|       21.25086252189141|     2284|\n",
      "|         2018-01-16|      21.199065776930425|     2098|\n",
      "|         2018-01-15|       21.89894685519258|     2051|\n",
      "|         2018-01-07|       21.50054182009471|     1901|\n",
      "|         2018-01-04|      20.711282998944057|     1894|\n",
      "|         2018-01-03|      21.183993660855794|     1893|\n",
      "|         2018-01-14|      21.282511898466424|     1891|\n",
      "|         2018-01-18|       21.99204978813562|     1888|\n",
      "|         2018-01-19|      22.192643617021297|     1880|\n",
      "|         2018-01-08|      21.295583511777313|     1868|\n",
      "|         2018-01-02|       21.94364320257928|     1861|\n",
      "|         2018-01-09|      21.061656740660542|     1847|\n",
      "|         2018-01-05|       21.75380823401951|     1846|\n",
      "|         2018-01-06|      22.067257452574545|     1845|\n",
      "|         2018-01-20|      22.327546857772905|     1814|\n",
      "|         2018-01-22|      21.940814855875846|     1804|\n",
      "|         2018-01-13|       21.30810550198527|     1763|\n",
      "|         2018-01-11|       21.30446215139444|     1757|\n",
      "|         2018-01-17|       21.46582191780824|     1752|\n",
      "|         2018-01-21|        21.3733867276888|     1748|\n",
      "+-------------------+------------------------+---------+\n",
      "only showing top 20 rows\n",
      "\n"
     ]
    }
   ],
   "source": [
    "#orders e.) Average Freight charges per order\n",
    "total_orders_average_freight_value=(df1.where(col(\"order_status\")==\"delivered\").groupBy(\"order_purchase_date\").agg(avg(\"order_freight_value\"), count(\"id\")).orderBy(desc(\"count(id)\")))\n",
    "total_orders_average_freight_value.show()"
   ]
  },
  {
   "cell_type": "code",
   "execution_count": 227,
   "id": "dfeea3b7",
   "metadata": {},
   "outputs": [
    {
     "name": "stdout",
     "output_type": "stream",
     "text": [
      "+-------------------+-------------------+---------+\n",
      "|order_purchase_date|      approval_time|count(id)|\n",
      "+-------------------+-------------------+---------+\n",
      "|         2017-01-24| 0.5330705212439772|     2284|\n",
      "|         2018-01-16| 0.4343675417661098|     2098|\n",
      "|         2018-01-15|      0.43798828125|     2051|\n",
      "|         2018-01-07| 0.4045358649789029|     1901|\n",
      "|         2018-01-04| 0.5491024287222809|     1894|\n",
      "|         2018-01-03| 0.6723133933298041|     1893|\n",
      "|         2018-01-14|0.45026455026455026|     1891|\n",
      "|         2018-01-18| 0.4376657824933687|     1888|\n",
      "|         2018-01-19| 0.5803191489361702|     1880|\n",
      "|         2018-01-08|0.40492769148366364|     1868|\n",
      "|         2018-01-02|0.46559139784946235|     1861|\n",
      "|         2018-01-09| 0.5225420966865834|     1847|\n",
      "|         2018-01-05| 0.4596205962059621|     1846|\n",
      "|         2018-01-06| 0.5276872964169381|     1845|\n",
      "|         2018-01-20| 0.7009397457158651|     1814|\n",
      "|         2018-01-22| 0.6988352745424293|     1804|\n",
      "|         2018-01-13|0.44880546075085326|     1763|\n",
      "|         2018-01-11|0.46583143507972663|     1757|\n",
      "|         2018-01-17| 0.4625071551230681|     1752|\n",
      "|         2018-01-21| 0.7878440366972477|     1748|\n",
      "+-------------------+-------------------+---------+\n",
      "only showing top 20 rows\n",
      "\n"
     ]
    }
   ],
   "source": [
    "#orders f.) Average time taken to approve the orders\n",
    "total_orders_average_approve_time=(df1.where(col(\"order_status\")==\"delivered\").groupBy(\"order_purchase_date\").agg(avg(df1[\"approved_dayofyear\"] - df1[\"purchase_dayofyear\"]).alias(\"approval_time\"), count(\"id\")).orderBy(desc(\"count(id)\")))\n",
    "total_orders_average_approve_time.show()"
   ]
  },
  {
   "cell_type": "code",
   "execution_count": 228,
   "id": "9575fb5e",
   "metadata": {},
   "outputs": [
    {
     "name": "stdout",
     "output_type": "stream",
     "text": [
      "+-------------------+--------------------+---------+\n",
      "|order_purchase_date|averag_delivery_time|count(id)|\n",
      "+-------------------+--------------------+---------+\n",
      "|         2017-01-24| -11.449255751014885|     2284|\n",
      "|         2018-01-16|  3.0355058365758754|     2098|\n",
      "|         2018-01-15|    4.26392373306573|     2051|\n",
      "|         2018-01-07|   8.301724137931034|     1901|\n",
      "|         2018-01-04|   9.260963724959394|     1894|\n",
      "|         2018-01-03|   9.462702702702703|     1893|\n",
      "|         2018-01-14|  4.6879049676025915|     1891|\n",
      "|         2018-01-18|  1.0016216216216216|     1888|\n",
      "|         2018-01-19| -0.4371941272430669|     1880|\n",
      "|         2018-01-08|   8.484665936473165|     1868|\n",
      "|         2018-01-02|   9.898789878987898|     1861|\n",
      "|         2018-01-09|   7.617647058823529|     1847|\n",
      "|         2018-01-05|   8.974358974358974|     1846|\n",
      "|         2018-01-06|   8.851216814159292|     1845|\n",
      "|         2018-01-20|  -2.089225589225589|     1814|\n",
      "|         2018-01-22|  -5.248868778280543|     1804|\n",
      "|         2018-01-13|   5.685497961560862|     1763|\n",
      "|         2018-01-11|   6.847674418604651|     1757|\n",
      "|         2018-01-17|  1.8853801169590643|     1752|\n",
      "|         2018-01-21| -3.5689958896065765|     1748|\n",
      "+-------------------+--------------------+---------+\n",
      "only showing top 20 rows\n",
      "\n"
     ]
    }
   ],
   "source": [
    "#orders g.) Average time taken to deliver the orders\n",
    "total_orders_average_delivery_time=(df1.where(col(\"order_status\")==\"delivered\").groupBy(\"order_purchase_date\").agg(avg(df1[\"delivered_dayofyear\"] - df1[\"approved_dayofyear\"]).alias(\"averag_delivery_time\"), count(\"id\")).orderBy(desc(\"count(id)\")))\n",
    "total_orders_average_delivery_time.show()"
   ]
  },
  {
   "cell_type": "code",
   "execution_count": null,
   "id": "85ad9572",
   "metadata": {},
   "outputs": [],
   "source": []
  },
  {
   "cell_type": "code",
   "execution_count": 229,
   "id": "cd1d5aa3",
   "metadata": {},
   "outputs": [
    {
     "name": "stdout",
     "output_type": "stream",
     "text": [
      "+------------+-------------------------+\n",
      "|week_of_year|sum(order_products_value)|\n",
      "+------------+-------------------------+\n",
      "|          53|                  1019.29|\n",
      "|           1|       2936587.8300000126|\n",
      "|          52|       182084.67000000022|\n",
      "|           3|       2932148.9799999953|\n",
      "|           5|        647104.6099999909|\n",
      "|           4|       2874179.8600000227|\n",
      "|           2|        2890866.230000019|\n",
      "+------------+-------------------------+\n",
      "\n"
     ]
    }
   ],
   "source": [
    "#weekly Sales a.) total sales\n",
    "total_week_sales=(df1.where(col(\"order_status\")==\"delivered\").groupBy(weekofyear(df1[\"order_purchase_date\"]).alias(\"week_of_year\")).agg(sum(\"order_products_value\")))\n",
    "total_week_sales.show()"
   ]
  },
  {
   "cell_type": "code",
   "execution_count": 230,
   "id": "706993d6",
   "metadata": {},
   "outputs": [
    {
     "name": "stdout",
     "output_type": "stream",
     "text": [
      "+------------+--------------------+------------------+\n",
      "|week_of_year|       customer_city|        total_sale|\n",
      "+------------+--------------------+------------------+\n",
      "|           2|    Mata de Sao Joao|352.96999999999997|\n",
      "|           2|            Sao Luis|12833.649999999994|\n",
      "|           2|            Paulinia|3634.8799999999997|\n",
      "|           1|          Acailandia|            297.88|\n",
      "|           1|          Mogi Mirim|           1385.67|\n",
      "|           4|    Feira de Santana|           5340.73|\n",
      "|           3|            Altamira|1154.8899999999999|\n",
      "|           4|              Andira| 543.1800000000001|\n",
      "|           5|Visconde do Rio B...|             162.9|\n",
      "|           4|Itapecerica da Serra|           3260.37|\n",
      "|           1|             Caninde|             553.4|\n",
      "|           2|            Botucatu|3017.1400000000003|\n",
      "|           4|              Calmon|              49.9|\n",
      "|           4|             Uberaba|3703.8600000000006|\n",
      "|           3|           Caravelas|            1340.0|\n",
      "|           5|              Ilheus|             555.0|\n",
      "|           1|Livramento de Nos...|            118.99|\n",
      "|           3|      Gastao Vidigal|            339.98|\n",
      "|           4|      Barra do Corda|             152.9|\n",
      "|           3|          Mamanguape|            406.96|\n",
      "+------------+--------------------+------------------+\n",
      "only showing top 20 rows\n",
      "\n"
     ]
    }
   ],
   "source": [
    "#weekly Sales b.) total sales city wise\n",
    "total_week_sales_city_wise=(df1.where(col(\"order_status\")==\"delivered\").groupBy(weekofyear(df1[\"order_purchase_date\"]).alias(\"week_of_year\"),\"customer_city\").agg(sum(\"order_products_value\").alias(\"total_sale\")))\n",
    "total_week_sales_city_wise.show()"
   ]
  },
  {
   "cell_type": "code",
   "execution_count": 231,
   "id": "08c60a18",
   "metadata": {},
   "outputs": [
    {
     "name": "stdout",
     "output_type": "stream",
     "text": [
      "+------------+--------------+----------------------+\n",
      "|week_of_year|customer_state|total_sales_state_wise|\n",
      "+------------+--------------+----------------------+\n",
      "|           4|            RJ|     383042.3999999979|\n",
      "|           3|            CE|     49006.90999999999|\n",
      "|          52|            BA|               7354.55|\n",
      "|          52|            MS|                679.46|\n",
      "|           4|            MT|    32623.999999999985|\n",
      "|           4|            PE|     51719.12000000003|\n",
      "|           4|            PR|    140061.87000000037|\n",
      "|           3|            MT|    32296.889999999978|\n",
      "|          52|            MG|    20795.189999999995|\n",
      "|           5|            SP|    247231.38999999978|\n",
      "|           2|            GO|     59273.78000000002|\n",
      "|           2|            RR|               1365.01|\n",
      "|           1|            SE|    11390.419999999998|\n",
      "|           5|            ES|     9639.269999999999|\n",
      "|           4|            SC|     105528.5400000002|\n",
      "|           1|            TO|              10587.34|\n",
      "|           5|            PA|    10613.519999999999|\n",
      "|           1|            SC|    107140.39000000019|\n",
      "|           1|            PI|    10731.559999999998|\n",
      "|           3|            AL|    22548.939999999995|\n",
      "+------------+--------------+----------------------+\n",
      "only showing top 20 rows\n",
      "\n"
     ]
    }
   ],
   "source": [
    "#weekly Sales c.) total sales state wise\n",
    "total_week_sales_state_wise=(df1.where(col(\"order_status\")==\"delivered\").groupBy(weekofyear(df1[\"order_purchase_date\"]).alias(\"week_of_year\"),\"customer_state\").agg(sum(\"order_products_value\").alias(\"total_sales_state_wise\")))\n",
    "total_week_sales_state_wise.show()"
   ]
  },
  {
   "cell_type": "code",
   "execution_count": 232,
   "id": "8599d00a",
   "metadata": {},
   "outputs": [
    {
     "name": "stdout",
     "output_type": "stream",
     "text": [
      "+------------+------------+\n",
      "|week_of_year|total_orders|\n",
      "+------------+------------+\n",
      "|          53|           9|\n",
      "|           1|       23024|\n",
      "|          52|        1373|\n",
      "|           3|       22952|\n",
      "|           5|        5246|\n",
      "|           4|       22530|\n",
      "|           2|       22494|\n",
      "+------------+------------+\n",
      "\n"
     ]
    }
   ],
   "source": [
    "#weekly Orders a.) total number of orders sold\n",
    "total_week_orders=(df1.where(col(\"order_status\")==\"delivered\").groupBy(weekofyear(df1[\"order_purchase_date\"]).alias(\"week_of_year\")).agg(count(\"id\").alias(\"total_orders\")))\n",
    "total_week_orders.show()"
   ]
  },
  {
   "cell_type": "code",
   "execution_count": 233,
   "id": "1c07e17d",
   "metadata": {},
   "outputs": [
    {
     "name": "stdout",
     "output_type": "stream",
     "text": [
      "+------------+--------------------+------------+\n",
      "|week_of_year|       customer_city|total_orders|\n",
      "+------------+--------------------+------------+\n",
      "|           2|    Mata de Sao Joao|           4|\n",
      "|           2|            Sao Luis|          77|\n",
      "|           2|            Paulinia|          28|\n",
      "|           1|          Acailandia|           2|\n",
      "|           1|          Mogi Mirim|          14|\n",
      "|           4|    Feira de Santana|          42|\n",
      "|           3|            Altamira|           5|\n",
      "|           4|              Andira|           5|\n",
      "|           5|Visconde do Rio B...|           2|\n",
      "|           4|Itapecerica da Serra|          25|\n",
      "|           1|             Caninde|           4|\n",
      "|           2|            Botucatu|          32|\n",
      "|           4|              Calmon|           1|\n",
      "|           4|             Uberaba|          31|\n",
      "|           3|           Caravelas|           1|\n",
      "|           5|              Ilheus|           3|\n",
      "|           1|Livramento de Nos...|           1|\n",
      "|           3|      Gastao Vidigal|           2|\n",
      "|           4|      Barra do Corda|           2|\n",
      "|           3|          Mamanguape|           2|\n",
      "+------------+--------------------+------------+\n",
      "only showing top 20 rows\n",
      "\n"
     ]
    }
   ],
   "source": [
    "#weekly Orders b.) city wise order distribution\n",
    "total_week_orders_city_wise=(df1.where(col(\"order_status\")==\"delivered\").groupBy(weekofyear(df1[\"order_purchase_date\"]).alias(\"week_of_year\"),\"customer_city\").agg(count(\"id\").alias(\"total_orders\")))\n",
    "total_week_orders_city_wise.show()"
   ]
  },
  {
   "cell_type": "code",
   "execution_count": 234,
   "id": "c94256b3",
   "metadata": {},
   "outputs": [
    {
     "name": "stdout",
     "output_type": "stream",
     "text": [
      "+------------+--------------+------------+\n",
      "|week_of_year|customer_state|total_orders|\n",
      "+------------+--------------+------------+\n",
      "|           4|            RJ|        3065|\n",
      "|           3|            CE|         301|\n",
      "|          52|            BA|          53|\n",
      "|          52|            MS|           7|\n",
      "|           4|            MT|         210|\n",
      "|           4|            PE|         363|\n",
      "|           4|            PR|        1118|\n",
      "|           3|            MT|         213|\n",
      "|          52|            MG|         161|\n",
      "|           5|            SP|        2128|\n",
      "|           2|            GO|         425|\n",
      "|           2|            RR|          11|\n",
      "|           1|            SE|          70|\n",
      "|           5|            ES|         102|\n",
      "|           4|            SC|         852|\n",
      "|           1|            TO|          70|\n",
      "|           5|            PA|          63|\n",
      "|           1|            SC|         797|\n",
      "|           1|            PI|          80|\n",
      "|           3|            AL|         115|\n",
      "+------------+--------------+------------+\n",
      "only showing top 20 rows\n",
      "\n"
     ]
    }
   ],
   "source": [
    "#weekly Orders c.) state wise order distribution\n",
    "total_week_orders_state_wise=(df1.where(col(\"order_status\")==\"delivered\").groupBy(weekofyear(df1[\"order_purchase_date\"]).alias(\"week_of_year\"),\"customer_state\").agg(count(\"id\").alias(\"total_orders\")))\n",
    "total_week_orders_state_wise.show()"
   ]
  },
  {
   "cell_type": "code",
   "execution_count": 235,
   "id": "cd4b01c0",
   "metadata": {},
   "outputs": [
    {
     "name": "stdout",
     "output_type": "stream",
     "text": [
      "+------------+------------------+\n",
      "|week_of_year|     average_score|\n",
      "+------------+------------------+\n",
      "|          53|3.7777777777777777|\n",
      "|           1| 4.118702223766505|\n",
      "|          52| 4.113619810633649|\n",
      "|           3| 4.099817009410945|\n",
      "|           5| 4.119329012581014|\n",
      "|           4| 4.101686640035508|\n",
      "|           2| 4.097581577309505|\n",
      "+------------+------------------+\n",
      "\n"
     ]
    }
   ],
   "source": [
    "#weekly Orders d.) average review score\n",
    "total_week_average_review_score=(df1.where(col(\"order_status\")==\"delivered\").groupBy(weekofyear(df1[\"order_purchase_date\"]).alias(\"week_of_year\")).agg(avg(\"review_score\").alias(\"average_score\")))\n",
    "total_week_average_review_score.show()"
   ]
  },
  {
   "cell_type": "code",
   "execution_count": 236,
   "id": "e7750f52",
   "metadata": {},
   "outputs": [
    {
     "name": "stdout",
     "output_type": "stream",
     "text": [
      "+------------+---------------------+\n",
      "|week_of_year|average_freight_value|\n",
      "+------------+---------------------+\n",
      "|          53|   15.643333333333333|\n",
      "|           1|   21.649496177901547|\n",
      "|          52|    22.48302257829571|\n",
      "|           3|   21.764004444057335|\n",
      "|           5|   21.424613038505484|\n",
      "|           4|   21.805934309809327|\n",
      "|           2|    21.56005690406349|\n",
      "+------------+---------------------+\n",
      "\n"
     ]
    }
   ],
   "source": [
    "#weekly Orders e.) average freight charges per order\n",
    "total_week_average_freight_value=(df1.where(col(\"order_status\")==\"delivered\").groupBy(weekofyear(df1[\"order_purchase_date\"]).alias(\"week_of_year\")).agg(avg(\"order_freight_value\").alias(\"average_freight_value\")))\n",
    "total_week_average_freight_value.show()"
   ]
  },
  {
   "cell_type": "code",
   "execution_count": null,
   "id": "05489b06",
   "metadata": {},
   "outputs": [],
   "source": []
  },
  {
   "cell_type": "code",
   "execution_count": 237,
   "id": "0b2e15ee",
   "metadata": {},
   "outputs": [
    {
     "name": "stdout",
     "output_type": "stream",
     "text": [
      "+------------+---------------------+\n",
      "|week_of_year|average_approval_time|\n",
      "+------------+---------------------+\n",
      "|          53|                -52.0|\n",
      "|           1|  0.06743528388079183|\n",
      "|          52|  -15.799416484318016|\n",
      "|           3|  0.08234369542438003|\n",
      "|           5|   2.1195797516714423|\n",
      "|           4|                 0.21|\n",
      "|           2|  0.06917427108835968|\n",
      "+------------+---------------------+\n",
      "\n"
     ]
    }
   ],
   "source": [
    "#weekly Orders f.) average time taken to approve the orders\n",
    "total_week_average_approval_time=(df1.where(col(\"order_status\")==\"delivered\").groupBy(weekofyear(df1[\"order_purchase_date\"]).alias(\"week_of_year\")).agg(avg(weekofyear(df1[\"order_approval_date\"]) - weekofyear(df1[\"order_purchase_date\"])).alias(\"average_approval_time\")))\n",
    "total_week_average_approval_time.show()"
   ]
  },
  {
   "cell_type": "code",
   "execution_count": 238,
   "id": "5613eb7d",
   "metadata": {},
   "outputs": [
    {
     "name": "stdout",
     "output_type": "stream",
     "text": [
      "+------------+---------------------+\n",
      "|week_of_year|average_delivery_time|\n",
      "+------------+---------------------+\n",
      "|          53|                20.75|\n",
      "|           1|    1.515392209657153|\n",
      "|          52|  -34.020439061317184|\n",
      "|           3|   0.8787973832780716|\n",
      "|           5|    -4.80685174246899|\n",
      "|           4|  -0.6379578043656955|\n",
      "|           2|   1.3513277989267531|\n",
      "+------------+---------------------+\n",
      "\n"
     ]
    }
   ],
   "source": [
    "#weekly Orders g.) average order delivery time\n",
    "total_week_average_delivery_time=(df1.where(col(\"order_status\")==\"delivered\").groupBy(weekofyear(df1[\"order_purchase_date\"]).alias(\"week_of_year\")).agg(avg(weekofyear(df1[\"order_delivered_date\"]) - weekofyear(df1[\"order_approval_date\"])).alias(\"average_delivery_time\")))\n",
    "total_week_average_delivery_time.show()"
   ]
  },
  {
   "cell_type": "code",
   "execution_count": 239,
   "id": "2f968784",
   "metadata": {},
   "outputs": [
    {
     "name": "stdout",
     "output_type": "stream",
     "text": [
      "+-------------------+\n",
      "|Total_freight_value|\n",
      "+-------------------+\n",
      "| 2117648.5499999207|\n",
      "+-------------------+\n",
      "\n"
     ]
    }
   ],
   "source": [
    "#Total Freight charges\n",
    "total_week_freight_charges=(df1.where(col(\"order_status\")==\"delivered\").agg(sum(\"order_freight_value\").alias(\"Total_freight_value\")))\n",
    "total_week_freight_charges.show()"
   ]
  },
  {
   "cell_type": "code",
   "execution_count": 240,
   "id": "e1e4073d",
   "metadata": {},
   "outputs": [
    {
     "name": "stdout",
     "output_type": "stream",
     "text": [
      "+----------------+-------------------+\n",
      "|   customer_city|Total_Freight_value|\n",
      "+----------------+-------------------+\n",
      "|        Araruama|            2304.13|\n",
      "|        Guidoval|              35.21|\n",
      "|     Piranguinho|              80.92|\n",
      "|     Tres Pontas| 362.59000000000003|\n",
      "|Senador Guiomard|             137.11|\n",
      "|       Carrancas| 48.260000000000005|\n",
      "|       Fronteira|             103.19|\n",
      "|          Utinga|              50.67|\n",
      "|    Assis Brasil|              24.84|\n",
      "|          Pianco|             195.64|\n",
      "|        Macaubas|             294.86|\n",
      "|      Livramento|              24.84|\n",
      "|    Cristalandia|              97.62|\n",
      "|        Rio Novo|              22.98|\n",
      "|        Machados|             127.52|\n",
      "|    Rio do Campo| 100.53999999999999|\n",
      "|      Purilandia|              27.49|\n",
      "|        Alambari|              75.12|\n",
      "|   Guajará-Mirim|             154.69|\n",
      "|           Tapes| 151.85999999999996|\n",
      "+----------------+-------------------+\n",
      "only showing top 20 rows\n",
      "\n"
     ]
    }
   ],
   "source": [
    "#Freight charges distribution in each customer city\n",
    "total_week_freight_charges_city_wise=(df1.where(col(\"order_status\")==\"delivered\").groupBy(\"customer_city\").agg(sum(\"order_freight_value\").alias(\"Total_Freight_value\")))\n",
    "total_week_freight_charges_city_wise.show()"
   ]
  },
  {
   "cell_type": "code",
   "execution_count": null,
   "id": "c1497460",
   "metadata": {},
   "outputs": [],
   "source": []
  }
 ],
 "metadata": {
  "kernelspec": {
   "display_name": "Python 3 (ipykernel)",
   "language": "python",
   "name": "python3"
  },
  "language_info": {
   "codemirror_mode": {
    "name": "ipython",
    "version": 3
   },
   "file_extension": ".py",
   "mimetype": "text/x-python",
   "name": "python",
   "nbconvert_exporter": "python",
   "pygments_lexer": "ipython3",
   "version": "3.9.7"
  }
 },
 "nbformat": 4,
 "nbformat_minor": 5
}
